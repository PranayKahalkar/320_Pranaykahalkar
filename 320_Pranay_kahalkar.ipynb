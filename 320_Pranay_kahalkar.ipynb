{
  "nbformat": 4,
  "nbformat_minor": 0,
  "metadata": {
    "colab": {
      "provenance": []
    },
    "kernelspec": {
      "name": "python3",
      "display_name": "Python 3"
    },
    "language_info": {
      "name": "python"
    }
  },
  "cells": [
    {
      "cell_type": "code",
      "execution_count": null,
      "metadata": {
        "id": "tvZBtYWikITw",
        "colab": {
          "base_uri": "https://localhost:8080/"
        },
        "outputId": "3344c5ed-4341-48ff-d7fa-f8d0f338c181"
      },
      "outputs": [
        {
          "output_type": "stream",
          "name": "stdout",
          "text": [
            "a  as  int : 25\n",
            "b is long : 5434\n",
            "c is float 34.45\n",
            " d is complex: 3.14j\n",
            "welcome to python\n",
            "[5, 4.5, 'python']\n",
            "(21, 'python', 21.45)\n",
            "{'EGR': 61, 'CDE': 69}\n"
          ]
        }
      ],
      "source": [
        "a=25\n",
        "print(\"a  as  int :\",a)\n",
        "b=5434\n",
        "print(\"b is long :\",b)\n",
        "c=34.45\n",
        "print(\"c is float\",c)\n",
        "d=3.14j\n",
        "print(\" d is complex:\",d)\n",
        "#String\n",
        "str1=\"welcome to python\"\n",
        "print(str1)\n",
        "\n",
        "#list\n",
        "\n",
        "#array is static and list in dynamics\n",
        "list=[5,4.5,\"python\"]\n",
        "print(list)\n",
        "tuple=(21,\"python\",21.45)\n",
        "print(tuple)\n",
        "dict={\"EGR\":61,\"CDE\":69}\n",
        "print(dict)\n",
        "\n",
        "\n",
        "\n"
      ]
    },
    {
      "cell_type": "code",
      "source": [
        "from google.colab import drive\n",
        "drive.mount('/content/drive')"
      ],
      "metadata": {
        "id": "0-Y6TEArIHIj"
      },
      "execution_count": null,
      "outputs": []
    },
    {
      "cell_type": "markdown",
      "source": [],
      "metadata": {
        "id": "0yZcPXLhnM5P"
      }
    },
    {
      "cell_type": "code",
      "source": [
        "#decission making statements\n",
        "#1) if statement 2)if -else statement 3) nested if statement\n",
        "# if statement\n",
        "\n",
        "n1=int(input())\n",
        "n2=int(input())\n",
        "n3=int(input())\n",
        "if n1>n2 and n1>n3 :\n",
        "  print(n1,\"is largest \")\n",
        "if n2>n1 and n1>n3 :\n",
        "  print(n2,\"is largest \")\n",
        "if n3>n2 and n3>n1 :\n",
        "  print(n3,\"is largest \")\n",
        "\n",
        "  #if -else statement\n",
        "  print(\"Enter a number\")\n",
        "  num=int(input())\n",
        "  if num%2==0:\n",
        "    print(num,\"is even\")\n",
        "    else:\n",
        "      print(num,\"is odd\")\n",
        "      #Nested if statment\n",
        "       if n1>n2:\n",
        "         if n1>n3:\n",
        "         print(n1,\"is largest\")\n",
        "      if n2>n1:\n",
        "        if n2>n3:\n",
        "        print(n2,\"is largest\")\n",
        "      if n3>n1:\n",
        "        if n3>n2:\n",
        "          print(n3,\"is largest\")\n",
        "\n",
        "#Short hand if else\n",
        "print(\"enter any number\")\n",
        "num=int(input())\n",
        "print(num,\"is even\") if num%2==0 else print(num,\"is odd\")"
      ],
      "metadata": {
        "id": "PrzJK6QMkLqI",
        "colab": {
          "base_uri": "https://localhost:8080/",
          "height": 130
        },
        "outputId": "8014e195-b50a-466b-8d9e-321f8697322f"
      },
      "execution_count": null,
      "outputs": [
        {
          "output_type": "error",
          "ename": "SyntaxError",
          "evalue": "ignored",
          "traceback": [
            "\u001b[0;36m  File \u001b[0;32m\"<ipython-input-1-8e3840c0aca4>\"\u001b[0;36m, line \u001b[0;32m20\u001b[0m\n\u001b[0;31m    else:\u001b[0m\n\u001b[0m    ^\u001b[0m\n\u001b[0;31mSyntaxError\u001b[0m\u001b[0;31m:\u001b[0m invalid syntax\n"
          ]
        }
      ]
    },
    {
      "cell_type": "code",
      "source": [
        "import pandas as pd\n",
        "df = pd.read_excel(r'/content/drive/MyDrive/Employeee data.1.xlsx')\n",
        "print(df)\n",
        "df1 = pd.read_excel(r'/content/drive/MyDrive/Emp data.2.xlsx')\n",
        "print(df1)"
      ],
      "metadata": {
        "id": "yk42oVZAkMH5",
        "colab": {
          "base_uri": "https://localhost:8080/"
        },
        "outputId": "e7856749-d457-426d-a127-71f8a1e1a024"
      },
      "execution_count": null,
      "outputs": [
        {
          "output_type": "stream",
          "name": "stdout",
          "text": [
            "    sr.no        Emp name  Emp Id Emp Date of Birth  AGE\n",
            "0       1           Rohit     101        1999-05-11   24\n",
            "1       2          Pranay     102        2004-02-29   18\n",
            "2       3        Sushant      103        1976-05-12   47\n",
            "3       4          Ganesh     104        1983-07-15   40\n",
            "4       5            Yash     105        1999-10-26   24\n",
            "5       6          Akshit     106        2002-09-21   21\n",
            "6       7        Kaustubh     107        1998-07-16   25\n",
            "7       8         Atharva     108        1989-07-18   34\n",
            "8       9         Shardul     109        2000-12-31   23\n",
            "9      10        Avishkar     110        1994-06-08   29\n",
            "10     11     virat Kohli     111        1968-07-03   55\n",
            "11     12    Rohit sharma     112        2004-02-20   18\n",
            "12     13       John Wick     113        2004-06-30   18\n",
            "13     14       Elon Musk     114        1998-11-26   25\n",
            "14     15           Vijay     115        1974-08-15   49\n",
            "15     16          Sanket     116        1997-06-26   26\n",
            "16     17           Rahul     117        1996-07-10   27\n",
            "17     18         Maxwell     118        1968-08-11   55\n",
            "18     19    David warner     119        1993-10-09   30\n",
            "19     20  Mohammed Shami     120        1997-07-07   26\n",
            "   Sr.no  Emp name  Salary\n",
            "0      1      yash   50000\n",
            "1      2    Pranay   50000\n",
            "2      3  Sushant    60000\n",
            "3      4     Rohit   40000\n",
            "4      5    Ganesh   70000\n",
            "5      6    Akshit   60000\n",
            "6      7  Kaustubh   70000\n",
            "7      8   Atharva   80000\n",
            "8      9   Shardul   90000\n",
            "9     10  Avishkar   90000\n"
          ]
        }
      ]
    },
    {
      "cell_type": "code",
      "source": [
        "a =  pd.merge(df,df1)\n",
        "print(a)"
      ],
      "metadata": {
        "colab": {
          "base_uri": "https://localhost:8080/"
        },
        "id": "4GATwXc4Ex51",
        "outputId": "56191662-02f6-4590-d5cc-2c651980be85"
      },
      "execution_count": null,
      "outputs": [
        {
          "output_type": "stream",
          "name": "stdout",
          "text": [
            "   sr.no  Emp name  Emp Id Emp Date of Birth  AGE  Sr.no  Salary\n",
            "0      1     Rohit     101        1999-05-11   24      4   40000\n",
            "1      2    Pranay     102        2004-02-29   18      2   50000\n",
            "2      3  Sushant      103        1976-05-12   47      3   60000\n",
            "3      4    Ganesh     104        1983-07-15   40      5   70000\n",
            "4      6    Akshit     106        2002-09-21   21      6   60000\n",
            "5      7  Kaustubh     107        1998-07-16   25      7   70000\n",
            "6      8   Atharva     108        1989-07-18   34      8   80000\n",
            "7      9   Shardul     109        2000-12-31   23      9   90000\n",
            "8     10  Avishkar     110        1994-06-08   29     10   90000\n"
          ]
        }
      ]
    },
    {
      "cell_type": "code",
      "source": [
        "#sort the record in ascending order\n",
        "import pandas as pd\n",
        "df.sort_values(by=['AGE'])"
      ],
      "metadata": {
        "colab": {
          "base_uri": "https://localhost:8080/",
          "height": 677
        },
        "id": "TV7TEr4DIWpm",
        "outputId": "9db88698-f89d-42b1-e482-a2eed6d5a9de"
      },
      "execution_count": null,
      "outputs": [
        {
          "output_type": "execute_result",
          "data": {
            "text/plain": [
              "    sr.no        Emp name  Emp Id Emp Date of Birth  AGE\n",
              "1       2          Pranay     102        2004-02-29   18\n",
              "12     13       John Wick     113        2004-06-30   18\n",
              "11     12    Rohit sharma     112        2004-02-20   18\n",
              "5       6          Akshit     106        2002-09-21   21\n",
              "8       9         Shardul     109        2000-12-31   23\n",
              "0       1           Rohit     101        1999-05-11   24\n",
              "4       5            Yash     105        1999-10-26   24\n",
              "13     14       Elon Musk     114        1998-11-26   25\n",
              "6       7        Kaustubh     107        1998-07-16   25\n",
              "15     16          Sanket     116        1997-06-26   26\n",
              "19     20  Mohammed Shami     120        1997-07-07   26\n",
              "16     17           Rahul     117        1996-07-10   27\n",
              "9      10        Avishkar     110        1994-06-08   29\n",
              "18     19    David warner     119        1993-10-09   30\n",
              "7       8         Atharva     108        1989-07-18   34\n",
              "3       4          Ganesh     104        1983-07-15   40\n",
              "2       3        Sushant      103        1976-05-12   47\n",
              "14     15           Vijay     115        1974-08-15   49\n",
              "17     18         Maxwell     118        1968-08-11   55\n",
              "10     11     virat Kohli     111        1968-07-03   55"
            ],
            "text/html": [
              "\n",
              "  <div id=\"df-42da3fc0-1e7a-46bb-972a-6533f9097997\">\n",
              "    <div class=\"colab-df-container\">\n",
              "      <div>\n",
              "<style scoped>\n",
              "    .dataframe tbody tr th:only-of-type {\n",
              "        vertical-align: middle;\n",
              "    }\n",
              "\n",
              "    .dataframe tbody tr th {\n",
              "        vertical-align: top;\n",
              "    }\n",
              "\n",
              "    .dataframe thead th {\n",
              "        text-align: right;\n",
              "    }\n",
              "</style>\n",
              "<table border=\"1\" class=\"dataframe\">\n",
              "  <thead>\n",
              "    <tr style=\"text-align: right;\">\n",
              "      <th></th>\n",
              "      <th>sr.no</th>\n",
              "      <th>Emp name</th>\n",
              "      <th>Emp Id</th>\n",
              "      <th>Emp Date of Birth</th>\n",
              "      <th>AGE</th>\n",
              "    </tr>\n",
              "  </thead>\n",
              "  <tbody>\n",
              "    <tr>\n",
              "      <th>1</th>\n",
              "      <td>2</td>\n",
              "      <td>Pranay</td>\n",
              "      <td>102</td>\n",
              "      <td>2004-02-29</td>\n",
              "      <td>18</td>\n",
              "    </tr>\n",
              "    <tr>\n",
              "      <th>12</th>\n",
              "      <td>13</td>\n",
              "      <td>John Wick</td>\n",
              "      <td>113</td>\n",
              "      <td>2004-06-30</td>\n",
              "      <td>18</td>\n",
              "    </tr>\n",
              "    <tr>\n",
              "      <th>11</th>\n",
              "      <td>12</td>\n",
              "      <td>Rohit sharma</td>\n",
              "      <td>112</td>\n",
              "      <td>2004-02-20</td>\n",
              "      <td>18</td>\n",
              "    </tr>\n",
              "    <tr>\n",
              "      <th>5</th>\n",
              "      <td>6</td>\n",
              "      <td>Akshit</td>\n",
              "      <td>106</td>\n",
              "      <td>2002-09-21</td>\n",
              "      <td>21</td>\n",
              "    </tr>\n",
              "    <tr>\n",
              "      <th>8</th>\n",
              "      <td>9</td>\n",
              "      <td>Shardul</td>\n",
              "      <td>109</td>\n",
              "      <td>2000-12-31</td>\n",
              "      <td>23</td>\n",
              "    </tr>\n",
              "    <tr>\n",
              "      <th>0</th>\n",
              "      <td>1</td>\n",
              "      <td>Rohit</td>\n",
              "      <td>101</td>\n",
              "      <td>1999-05-11</td>\n",
              "      <td>24</td>\n",
              "    </tr>\n",
              "    <tr>\n",
              "      <th>4</th>\n",
              "      <td>5</td>\n",
              "      <td>Yash</td>\n",
              "      <td>105</td>\n",
              "      <td>1999-10-26</td>\n",
              "      <td>24</td>\n",
              "    </tr>\n",
              "    <tr>\n",
              "      <th>13</th>\n",
              "      <td>14</td>\n",
              "      <td>Elon Musk</td>\n",
              "      <td>114</td>\n",
              "      <td>1998-11-26</td>\n",
              "      <td>25</td>\n",
              "    </tr>\n",
              "    <tr>\n",
              "      <th>6</th>\n",
              "      <td>7</td>\n",
              "      <td>Kaustubh</td>\n",
              "      <td>107</td>\n",
              "      <td>1998-07-16</td>\n",
              "      <td>25</td>\n",
              "    </tr>\n",
              "    <tr>\n",
              "      <th>15</th>\n",
              "      <td>16</td>\n",
              "      <td>Sanket</td>\n",
              "      <td>116</td>\n",
              "      <td>1997-06-26</td>\n",
              "      <td>26</td>\n",
              "    </tr>\n",
              "    <tr>\n",
              "      <th>19</th>\n",
              "      <td>20</td>\n",
              "      <td>Mohammed Shami</td>\n",
              "      <td>120</td>\n",
              "      <td>1997-07-07</td>\n",
              "      <td>26</td>\n",
              "    </tr>\n",
              "    <tr>\n",
              "      <th>16</th>\n",
              "      <td>17</td>\n",
              "      <td>Rahul</td>\n",
              "      <td>117</td>\n",
              "      <td>1996-07-10</td>\n",
              "      <td>27</td>\n",
              "    </tr>\n",
              "    <tr>\n",
              "      <th>9</th>\n",
              "      <td>10</td>\n",
              "      <td>Avishkar</td>\n",
              "      <td>110</td>\n",
              "      <td>1994-06-08</td>\n",
              "      <td>29</td>\n",
              "    </tr>\n",
              "    <tr>\n",
              "      <th>18</th>\n",
              "      <td>19</td>\n",
              "      <td>David warner</td>\n",
              "      <td>119</td>\n",
              "      <td>1993-10-09</td>\n",
              "      <td>30</td>\n",
              "    </tr>\n",
              "    <tr>\n",
              "      <th>7</th>\n",
              "      <td>8</td>\n",
              "      <td>Atharva</td>\n",
              "      <td>108</td>\n",
              "      <td>1989-07-18</td>\n",
              "      <td>34</td>\n",
              "    </tr>\n",
              "    <tr>\n",
              "      <th>3</th>\n",
              "      <td>4</td>\n",
              "      <td>Ganesh</td>\n",
              "      <td>104</td>\n",
              "      <td>1983-07-15</td>\n",
              "      <td>40</td>\n",
              "    </tr>\n",
              "    <tr>\n",
              "      <th>2</th>\n",
              "      <td>3</td>\n",
              "      <td>Sushant</td>\n",
              "      <td>103</td>\n",
              "      <td>1976-05-12</td>\n",
              "      <td>47</td>\n",
              "    </tr>\n",
              "    <tr>\n",
              "      <th>14</th>\n",
              "      <td>15</td>\n",
              "      <td>Vijay</td>\n",
              "      <td>115</td>\n",
              "      <td>1974-08-15</td>\n",
              "      <td>49</td>\n",
              "    </tr>\n",
              "    <tr>\n",
              "      <th>17</th>\n",
              "      <td>18</td>\n",
              "      <td>Maxwell</td>\n",
              "      <td>118</td>\n",
              "      <td>1968-08-11</td>\n",
              "      <td>55</td>\n",
              "    </tr>\n",
              "    <tr>\n",
              "      <th>10</th>\n",
              "      <td>11</td>\n",
              "      <td>virat Kohli</td>\n",
              "      <td>111</td>\n",
              "      <td>1968-07-03</td>\n",
              "      <td>55</td>\n",
              "    </tr>\n",
              "  </tbody>\n",
              "</table>\n",
              "</div>\n",
              "      <button class=\"colab-df-convert\" onclick=\"convertToInteractive('df-42da3fc0-1e7a-46bb-972a-6533f9097997')\"\n",
              "              title=\"Convert this dataframe to an interactive table.\"\n",
              "              style=\"display:none;\">\n",
              "        \n",
              "  <svg xmlns=\"http://www.w3.org/2000/svg\" height=\"24px\"viewBox=\"0 0 24 24\"\n",
              "       width=\"24px\">\n",
              "    <path d=\"M0 0h24v24H0V0z\" fill=\"none\"/>\n",
              "    <path d=\"M18.56 5.44l.94 2.06.94-2.06 2.06-.94-2.06-.94-.94-2.06-.94 2.06-2.06.94zm-11 1L8.5 8.5l.94-2.06 2.06-.94-2.06-.94L8.5 2.5l-.94 2.06-2.06.94zm10 10l.94 2.06.94-2.06 2.06-.94-2.06-.94-.94-2.06-.94 2.06-2.06.94z\"/><path d=\"M17.41 7.96l-1.37-1.37c-.4-.4-.92-.59-1.43-.59-.52 0-1.04.2-1.43.59L10.3 9.45l-7.72 7.72c-.78.78-.78 2.05 0 2.83L4 21.41c.39.39.9.59 1.41.59.51 0 1.02-.2 1.41-.59l7.78-7.78 2.81-2.81c.8-.78.8-2.07 0-2.86zM5.41 20L4 18.59l7.72-7.72 1.47 1.35L5.41 20z\"/>\n",
              "  </svg>\n",
              "      </button>\n",
              "      \n",
              "  <style>\n",
              "    .colab-df-container {\n",
              "      display:flex;\n",
              "      flex-wrap:wrap;\n",
              "      gap: 12px;\n",
              "    }\n",
              "\n",
              "    .colab-df-convert {\n",
              "      background-color: #E8F0FE;\n",
              "      border: none;\n",
              "      border-radius: 50%;\n",
              "      cursor: pointer;\n",
              "      display: none;\n",
              "      fill: #1967D2;\n",
              "      height: 32px;\n",
              "      padding: 0 0 0 0;\n",
              "      width: 32px;\n",
              "    }\n",
              "\n",
              "    .colab-df-convert:hover {\n",
              "      background-color: #E2EBFA;\n",
              "      box-shadow: 0px 1px 2px rgba(60, 64, 67, 0.3), 0px 1px 3px 1px rgba(60, 64, 67, 0.15);\n",
              "      fill: #174EA6;\n",
              "    }\n",
              "\n",
              "    [theme=dark] .colab-df-convert {\n",
              "      background-color: #3B4455;\n",
              "      fill: #D2E3FC;\n",
              "    }\n",
              "\n",
              "    [theme=dark] .colab-df-convert:hover {\n",
              "      background-color: #434B5C;\n",
              "      box-shadow: 0px 1px 3px 1px rgba(0, 0, 0, 0.15);\n",
              "      filter: drop-shadow(0px 1px 2px rgba(0, 0, 0, 0.3));\n",
              "      fill: #FFFFFF;\n",
              "    }\n",
              "  </style>\n",
              "\n",
              "      <script>\n",
              "        const buttonEl =\n",
              "          document.querySelector('#df-42da3fc0-1e7a-46bb-972a-6533f9097997 button.colab-df-convert');\n",
              "        buttonEl.style.display =\n",
              "          google.colab.kernel.accessAllowed ? 'block' : 'none';\n",
              "\n",
              "        async function convertToInteractive(key) {\n",
              "          const element = document.querySelector('#df-42da3fc0-1e7a-46bb-972a-6533f9097997');\n",
              "          const dataTable =\n",
              "            await google.colab.kernel.invokeFunction('convertToInteractive',\n",
              "                                                     [key], {});\n",
              "          if (!dataTable) return;\n",
              "\n",
              "          const docLinkHtml = 'Like what you see? Visit the ' +\n",
              "            '<a target=\"_blank\" href=https://colab.research.google.com/notebooks/data_table.ipynb>data table notebook</a>'\n",
              "            + ' to learn more about interactive tables.';\n",
              "          element.innerHTML = '';\n",
              "          dataTable['output_type'] = 'display_data';\n",
              "          await google.colab.output.renderOutput(dataTable, element);\n",
              "          const docLink = document.createElement('div');\n",
              "          docLink.innerHTML = docLinkHtml;\n",
              "          element.appendChild(docLink);\n",
              "        }\n",
              "      </script>\n",
              "    </div>\n",
              "  </div>\n",
              "  "
            ]
          },
          "metadata": {},
          "execution_count": 15
        }
      ]
    },
    {
      "cell_type": "code",
      "source": [
        "#function to find first 5 emp having high salary\n",
        "def Sal():\n",
        "  import pandas as pd\n",
        "  a =df1.sort_values(by=['Salary'],ascending=False)\n",
        "\n",
        "  a.nlargest(5,'Salary','first')\n",
        "  print(a)\n",
        "  Sal()"
      ],
      "metadata": {
        "id": "90X-aaFVMY0n"
      },
      "execution_count": null,
      "outputs": []
    },
    {
      "cell_type": "markdown",
      "source": [],
      "metadata": {
        "id": "7hTorsRnpTIe"
      }
    },
    {
      "cell_type": "code",
      "source": [
        "display(df,df1)"
      ],
      "metadata": {
        "colab": {
          "base_uri": "https://localhost:8080/",
          "height": 1000
        },
        "id": "2u77LJB6pQ-8",
        "outputId": "0e488d1b-ced6-4603-dbb1-9b5576d2b1e9"
      },
      "execution_count": null,
      "outputs": [
        {
          "output_type": "display_data",
          "data": {
            "text/plain": [
              "    sr.no        Emp name  Emp Id Emp Date of Birth  AGE\n",
              "0       1           Rohit     101        1999-05-11   24\n",
              "1       2          Pranay     102        2004-02-29   18\n",
              "2       3        Sushant      103        1976-05-12   47\n",
              "3       4          Ganesh     104        1983-07-15   40\n",
              "4       5            Yash     105        1999-10-26   24\n",
              "5       6          Akshit     106        2002-09-21   21\n",
              "6       7        Kaustubh     107        1998-07-16   25\n",
              "7       8         Atharva     108        1989-07-18   34\n",
              "8       9         Shardul     109        2000-12-31   23\n",
              "9      10        Avishkar     110        1994-06-08   29\n",
              "10     11     virat Kohli     111        1968-07-03   55\n",
              "11     12    Rohit sharma     112        2004-02-20   18\n",
              "12     13       John Wick     113        2004-06-30   18\n",
              "13     14       Elon Musk     114        1998-11-26   25\n",
              "14     15           Vijay     115        1974-08-15   49\n",
              "15     16          Sanket     116        1997-06-26   26\n",
              "16     17           Rahul     117        1996-07-10   27\n",
              "17     18         Maxwell     118        1968-08-11   55\n",
              "18     19    David warner     119        1993-10-09   30\n",
              "19     20  Mohammed Shami     120        1997-07-07   26"
            ],
            "text/html": [
              "\n",
              "  <div id=\"df-dbe55e3c-60a9-414c-9719-c6fbb7f909ee\">\n",
              "    <div class=\"colab-df-container\">\n",
              "      <div>\n",
              "<style scoped>\n",
              "    .dataframe tbody tr th:only-of-type {\n",
              "        vertical-align: middle;\n",
              "    }\n",
              "\n",
              "    .dataframe tbody tr th {\n",
              "        vertical-align: top;\n",
              "    }\n",
              "\n",
              "    .dataframe thead th {\n",
              "        text-align: right;\n",
              "    }\n",
              "</style>\n",
              "<table border=\"1\" class=\"dataframe\">\n",
              "  <thead>\n",
              "    <tr style=\"text-align: right;\">\n",
              "      <th></th>\n",
              "      <th>sr.no</th>\n",
              "      <th>Emp name</th>\n",
              "      <th>Emp Id</th>\n",
              "      <th>Emp Date of Birth</th>\n",
              "      <th>AGE</th>\n",
              "    </tr>\n",
              "  </thead>\n",
              "  <tbody>\n",
              "    <tr>\n",
              "      <th>0</th>\n",
              "      <td>1</td>\n",
              "      <td>Rohit</td>\n",
              "      <td>101</td>\n",
              "      <td>1999-05-11</td>\n",
              "      <td>24</td>\n",
              "    </tr>\n",
              "    <tr>\n",
              "      <th>1</th>\n",
              "      <td>2</td>\n",
              "      <td>Pranay</td>\n",
              "      <td>102</td>\n",
              "      <td>2004-02-29</td>\n",
              "      <td>18</td>\n",
              "    </tr>\n",
              "    <tr>\n",
              "      <th>2</th>\n",
              "      <td>3</td>\n",
              "      <td>Sushant</td>\n",
              "      <td>103</td>\n",
              "      <td>1976-05-12</td>\n",
              "      <td>47</td>\n",
              "    </tr>\n",
              "    <tr>\n",
              "      <th>3</th>\n",
              "      <td>4</td>\n",
              "      <td>Ganesh</td>\n",
              "      <td>104</td>\n",
              "      <td>1983-07-15</td>\n",
              "      <td>40</td>\n",
              "    </tr>\n",
              "    <tr>\n",
              "      <th>4</th>\n",
              "      <td>5</td>\n",
              "      <td>Yash</td>\n",
              "      <td>105</td>\n",
              "      <td>1999-10-26</td>\n",
              "      <td>24</td>\n",
              "    </tr>\n",
              "    <tr>\n",
              "      <th>5</th>\n",
              "      <td>6</td>\n",
              "      <td>Akshit</td>\n",
              "      <td>106</td>\n",
              "      <td>2002-09-21</td>\n",
              "      <td>21</td>\n",
              "    </tr>\n",
              "    <tr>\n",
              "      <th>6</th>\n",
              "      <td>7</td>\n",
              "      <td>Kaustubh</td>\n",
              "      <td>107</td>\n",
              "      <td>1998-07-16</td>\n",
              "      <td>25</td>\n",
              "    </tr>\n",
              "    <tr>\n",
              "      <th>7</th>\n",
              "      <td>8</td>\n",
              "      <td>Atharva</td>\n",
              "      <td>108</td>\n",
              "      <td>1989-07-18</td>\n",
              "      <td>34</td>\n",
              "    </tr>\n",
              "    <tr>\n",
              "      <th>8</th>\n",
              "      <td>9</td>\n",
              "      <td>Shardul</td>\n",
              "      <td>109</td>\n",
              "      <td>2000-12-31</td>\n",
              "      <td>23</td>\n",
              "    </tr>\n",
              "    <tr>\n",
              "      <th>9</th>\n",
              "      <td>10</td>\n",
              "      <td>Avishkar</td>\n",
              "      <td>110</td>\n",
              "      <td>1994-06-08</td>\n",
              "      <td>29</td>\n",
              "    </tr>\n",
              "    <tr>\n",
              "      <th>10</th>\n",
              "      <td>11</td>\n",
              "      <td>virat Kohli</td>\n",
              "      <td>111</td>\n",
              "      <td>1968-07-03</td>\n",
              "      <td>55</td>\n",
              "    </tr>\n",
              "    <tr>\n",
              "      <th>11</th>\n",
              "      <td>12</td>\n",
              "      <td>Rohit sharma</td>\n",
              "      <td>112</td>\n",
              "      <td>2004-02-20</td>\n",
              "      <td>18</td>\n",
              "    </tr>\n",
              "    <tr>\n",
              "      <th>12</th>\n",
              "      <td>13</td>\n",
              "      <td>John Wick</td>\n",
              "      <td>113</td>\n",
              "      <td>2004-06-30</td>\n",
              "      <td>18</td>\n",
              "    </tr>\n",
              "    <tr>\n",
              "      <th>13</th>\n",
              "      <td>14</td>\n",
              "      <td>Elon Musk</td>\n",
              "      <td>114</td>\n",
              "      <td>1998-11-26</td>\n",
              "      <td>25</td>\n",
              "    </tr>\n",
              "    <tr>\n",
              "      <th>14</th>\n",
              "      <td>15</td>\n",
              "      <td>Vijay</td>\n",
              "      <td>115</td>\n",
              "      <td>1974-08-15</td>\n",
              "      <td>49</td>\n",
              "    </tr>\n",
              "    <tr>\n",
              "      <th>15</th>\n",
              "      <td>16</td>\n",
              "      <td>Sanket</td>\n",
              "      <td>116</td>\n",
              "      <td>1997-06-26</td>\n",
              "      <td>26</td>\n",
              "    </tr>\n",
              "    <tr>\n",
              "      <th>16</th>\n",
              "      <td>17</td>\n",
              "      <td>Rahul</td>\n",
              "      <td>117</td>\n",
              "      <td>1996-07-10</td>\n",
              "      <td>27</td>\n",
              "    </tr>\n",
              "    <tr>\n",
              "      <th>17</th>\n",
              "      <td>18</td>\n",
              "      <td>Maxwell</td>\n",
              "      <td>118</td>\n",
              "      <td>1968-08-11</td>\n",
              "      <td>55</td>\n",
              "    </tr>\n",
              "    <tr>\n",
              "      <th>18</th>\n",
              "      <td>19</td>\n",
              "      <td>David warner</td>\n",
              "      <td>119</td>\n",
              "      <td>1993-10-09</td>\n",
              "      <td>30</td>\n",
              "    </tr>\n",
              "    <tr>\n",
              "      <th>19</th>\n",
              "      <td>20</td>\n",
              "      <td>Mohammed Shami</td>\n",
              "      <td>120</td>\n",
              "      <td>1997-07-07</td>\n",
              "      <td>26</td>\n",
              "    </tr>\n",
              "  </tbody>\n",
              "</table>\n",
              "</div>\n",
              "      <button class=\"colab-df-convert\" onclick=\"convertToInteractive('df-dbe55e3c-60a9-414c-9719-c6fbb7f909ee')\"\n",
              "              title=\"Convert this dataframe to an interactive table.\"\n",
              "              style=\"display:none;\">\n",
              "        \n",
              "  <svg xmlns=\"http://www.w3.org/2000/svg\" height=\"24px\"viewBox=\"0 0 24 24\"\n",
              "       width=\"24px\">\n",
              "    <path d=\"M0 0h24v24H0V0z\" fill=\"none\"/>\n",
              "    <path d=\"M18.56 5.44l.94 2.06.94-2.06 2.06-.94-2.06-.94-.94-2.06-.94 2.06-2.06.94zm-11 1L8.5 8.5l.94-2.06 2.06-.94-2.06-.94L8.5 2.5l-.94 2.06-2.06.94zm10 10l.94 2.06.94-2.06 2.06-.94-2.06-.94-.94-2.06-.94 2.06-2.06.94z\"/><path d=\"M17.41 7.96l-1.37-1.37c-.4-.4-.92-.59-1.43-.59-.52 0-1.04.2-1.43.59L10.3 9.45l-7.72 7.72c-.78.78-.78 2.05 0 2.83L4 21.41c.39.39.9.59 1.41.59.51 0 1.02-.2 1.41-.59l7.78-7.78 2.81-2.81c.8-.78.8-2.07 0-2.86zM5.41 20L4 18.59l7.72-7.72 1.47 1.35L5.41 20z\"/>\n",
              "  </svg>\n",
              "      </button>\n",
              "      \n",
              "  <style>\n",
              "    .colab-df-container {\n",
              "      display:flex;\n",
              "      flex-wrap:wrap;\n",
              "      gap: 12px;\n",
              "    }\n",
              "\n",
              "    .colab-df-convert {\n",
              "      background-color: #E8F0FE;\n",
              "      border: none;\n",
              "      border-radius: 50%;\n",
              "      cursor: pointer;\n",
              "      display: none;\n",
              "      fill: #1967D2;\n",
              "      height: 32px;\n",
              "      padding: 0 0 0 0;\n",
              "      width: 32px;\n",
              "    }\n",
              "\n",
              "    .colab-df-convert:hover {\n",
              "      background-color: #E2EBFA;\n",
              "      box-shadow: 0px 1px 2px rgba(60, 64, 67, 0.3), 0px 1px 3px 1px rgba(60, 64, 67, 0.15);\n",
              "      fill: #174EA6;\n",
              "    }\n",
              "\n",
              "    [theme=dark] .colab-df-convert {\n",
              "      background-color: #3B4455;\n",
              "      fill: #D2E3FC;\n",
              "    }\n",
              "\n",
              "    [theme=dark] .colab-df-convert:hover {\n",
              "      background-color: #434B5C;\n",
              "      box-shadow: 0px 1px 3px 1px rgba(0, 0, 0, 0.15);\n",
              "      filter: drop-shadow(0px 1px 2px rgba(0, 0, 0, 0.3));\n",
              "      fill: #FFFFFF;\n",
              "    }\n",
              "  </style>\n",
              "\n",
              "      <script>\n",
              "        const buttonEl =\n",
              "          document.querySelector('#df-dbe55e3c-60a9-414c-9719-c6fbb7f909ee button.colab-df-convert');\n",
              "        buttonEl.style.display =\n",
              "          google.colab.kernel.accessAllowed ? 'block' : 'none';\n",
              "\n",
              "        async function convertToInteractive(key) {\n",
              "          const element = document.querySelector('#df-dbe55e3c-60a9-414c-9719-c6fbb7f909ee');\n",
              "          const dataTable =\n",
              "            await google.colab.kernel.invokeFunction('convertToInteractive',\n",
              "                                                     [key], {});\n",
              "          if (!dataTable) return;\n",
              "\n",
              "          const docLinkHtml = 'Like what you see? Visit the ' +\n",
              "            '<a target=\"_blank\" href=https://colab.research.google.com/notebooks/data_table.ipynb>data table notebook</a>'\n",
              "            + ' to learn more about interactive tables.';\n",
              "          element.innerHTML = '';\n",
              "          dataTable['output_type'] = 'display_data';\n",
              "          await google.colab.output.renderOutput(dataTable, element);\n",
              "          const docLink = document.createElement('div');\n",
              "          docLink.innerHTML = docLinkHtml;\n",
              "          element.appendChild(docLink);\n",
              "        }\n",
              "      </script>\n",
              "    </div>\n",
              "  </div>\n",
              "  "
            ]
          },
          "metadata": {}
        },
        {
          "output_type": "display_data",
          "data": {
            "text/plain": [
              "   Sr.no  Emp name  Salary\n",
              "0      1      yash   50000\n",
              "1      2    Pranay   50000\n",
              "2      3  Sushant    60000\n",
              "3      4     Rohit   40000\n",
              "4      5    Ganesh   70000\n",
              "5      6    Akshit   60000\n",
              "6      7  Kaustubh   70000\n",
              "7      8   Atharva   80000\n",
              "8      9   Shardul   90000\n",
              "9     10  Avishkar   90000"
            ],
            "text/html": [
              "\n",
              "  <div id=\"df-fa415787-74f5-4d36-8d5d-8d89f23f0875\">\n",
              "    <div class=\"colab-df-container\">\n",
              "      <div>\n",
              "<style scoped>\n",
              "    .dataframe tbody tr th:only-of-type {\n",
              "        vertical-align: middle;\n",
              "    }\n",
              "\n",
              "    .dataframe tbody tr th {\n",
              "        vertical-align: top;\n",
              "    }\n",
              "\n",
              "    .dataframe thead th {\n",
              "        text-align: right;\n",
              "    }\n",
              "</style>\n",
              "<table border=\"1\" class=\"dataframe\">\n",
              "  <thead>\n",
              "    <tr style=\"text-align: right;\">\n",
              "      <th></th>\n",
              "      <th>Sr.no</th>\n",
              "      <th>Emp name</th>\n",
              "      <th>Salary</th>\n",
              "    </tr>\n",
              "  </thead>\n",
              "  <tbody>\n",
              "    <tr>\n",
              "      <th>0</th>\n",
              "      <td>1</td>\n",
              "      <td>yash</td>\n",
              "      <td>50000</td>\n",
              "    </tr>\n",
              "    <tr>\n",
              "      <th>1</th>\n",
              "      <td>2</td>\n",
              "      <td>Pranay</td>\n",
              "      <td>50000</td>\n",
              "    </tr>\n",
              "    <tr>\n",
              "      <th>2</th>\n",
              "      <td>3</td>\n",
              "      <td>Sushant</td>\n",
              "      <td>60000</td>\n",
              "    </tr>\n",
              "    <tr>\n",
              "      <th>3</th>\n",
              "      <td>4</td>\n",
              "      <td>Rohit</td>\n",
              "      <td>40000</td>\n",
              "    </tr>\n",
              "    <tr>\n",
              "      <th>4</th>\n",
              "      <td>5</td>\n",
              "      <td>Ganesh</td>\n",
              "      <td>70000</td>\n",
              "    </tr>\n",
              "    <tr>\n",
              "      <th>5</th>\n",
              "      <td>6</td>\n",
              "      <td>Akshit</td>\n",
              "      <td>60000</td>\n",
              "    </tr>\n",
              "    <tr>\n",
              "      <th>6</th>\n",
              "      <td>7</td>\n",
              "      <td>Kaustubh</td>\n",
              "      <td>70000</td>\n",
              "    </tr>\n",
              "    <tr>\n",
              "      <th>7</th>\n",
              "      <td>8</td>\n",
              "      <td>Atharva</td>\n",
              "      <td>80000</td>\n",
              "    </tr>\n",
              "    <tr>\n",
              "      <th>8</th>\n",
              "      <td>9</td>\n",
              "      <td>Shardul</td>\n",
              "      <td>90000</td>\n",
              "    </tr>\n",
              "    <tr>\n",
              "      <th>9</th>\n",
              "      <td>10</td>\n",
              "      <td>Avishkar</td>\n",
              "      <td>90000</td>\n",
              "    </tr>\n",
              "  </tbody>\n",
              "</table>\n",
              "</div>\n",
              "      <button class=\"colab-df-convert\" onclick=\"convertToInteractive('df-fa415787-74f5-4d36-8d5d-8d89f23f0875')\"\n",
              "              title=\"Convert this dataframe to an interactive table.\"\n",
              "              style=\"display:none;\">\n",
              "        \n",
              "  <svg xmlns=\"http://www.w3.org/2000/svg\" height=\"24px\"viewBox=\"0 0 24 24\"\n",
              "       width=\"24px\">\n",
              "    <path d=\"M0 0h24v24H0V0z\" fill=\"none\"/>\n",
              "    <path d=\"M18.56 5.44l.94 2.06.94-2.06 2.06-.94-2.06-.94-.94-2.06-.94 2.06-2.06.94zm-11 1L8.5 8.5l.94-2.06 2.06-.94-2.06-.94L8.5 2.5l-.94 2.06-2.06.94zm10 10l.94 2.06.94-2.06 2.06-.94-2.06-.94-.94-2.06-.94 2.06-2.06.94z\"/><path d=\"M17.41 7.96l-1.37-1.37c-.4-.4-.92-.59-1.43-.59-.52 0-1.04.2-1.43.59L10.3 9.45l-7.72 7.72c-.78.78-.78 2.05 0 2.83L4 21.41c.39.39.9.59 1.41.59.51 0 1.02-.2 1.41-.59l7.78-7.78 2.81-2.81c.8-.78.8-2.07 0-2.86zM5.41 20L4 18.59l7.72-7.72 1.47 1.35L5.41 20z\"/>\n",
              "  </svg>\n",
              "      </button>\n",
              "      \n",
              "  <style>\n",
              "    .colab-df-container {\n",
              "      display:flex;\n",
              "      flex-wrap:wrap;\n",
              "      gap: 12px;\n",
              "    }\n",
              "\n",
              "    .colab-df-convert {\n",
              "      background-color: #E8F0FE;\n",
              "      border: none;\n",
              "      border-radius: 50%;\n",
              "      cursor: pointer;\n",
              "      display: none;\n",
              "      fill: #1967D2;\n",
              "      height: 32px;\n",
              "      padding: 0 0 0 0;\n",
              "      width: 32px;\n",
              "    }\n",
              "\n",
              "    .colab-df-convert:hover {\n",
              "      background-color: #E2EBFA;\n",
              "      box-shadow: 0px 1px 2px rgba(60, 64, 67, 0.3), 0px 1px 3px 1px rgba(60, 64, 67, 0.15);\n",
              "      fill: #174EA6;\n",
              "    }\n",
              "\n",
              "    [theme=dark] .colab-df-convert {\n",
              "      background-color: #3B4455;\n",
              "      fill: #D2E3FC;\n",
              "    }\n",
              "\n",
              "    [theme=dark] .colab-df-convert:hover {\n",
              "      background-color: #434B5C;\n",
              "      box-shadow: 0px 1px 3px 1px rgba(0, 0, 0, 0.15);\n",
              "      filter: drop-shadow(0px 1px 2px rgba(0, 0, 0, 0.3));\n",
              "      fill: #FFFFFF;\n",
              "    }\n",
              "  </style>\n",
              "\n",
              "      <script>\n",
              "        const buttonEl =\n",
              "          document.querySelector('#df-fa415787-74f5-4d36-8d5d-8d89f23f0875 button.colab-df-convert');\n",
              "        buttonEl.style.display =\n",
              "          google.colab.kernel.accessAllowed ? 'block' : 'none';\n",
              "\n",
              "        async function convertToInteractive(key) {\n",
              "          const element = document.querySelector('#df-fa415787-74f5-4d36-8d5d-8d89f23f0875');\n",
              "          const dataTable =\n",
              "            await google.colab.kernel.invokeFunction('convertToInteractive',\n",
              "                                                     [key], {});\n",
              "          if (!dataTable) return;\n",
              "\n",
              "          const docLinkHtml = 'Like what you see? Visit the ' +\n",
              "            '<a target=\"_blank\" href=https://colab.research.google.com/notebooks/data_table.ipynb>data table notebook</a>'\n",
              "            + ' to learn more about interactive tables.';\n",
              "          element.innerHTML = '';\n",
              "          dataTable['output_type'] = 'display_data';\n",
              "          await google.colab.output.renderOutput(dataTable, element);\n",
              "          const docLink = document.createElement('div');\n",
              "          docLink.innerHTML = docLinkHtml;\n",
              "          element.appendChild(docLink);\n",
              "        }\n",
              "      </script>\n",
              "    </div>\n",
              "  </div>\n",
              "  "
            ]
          },
          "metadata": {}
        }
      ]
    },
    {
      "cell_type": "code",
      "source": [
        "import pandas as pb\n",
        "df = pb.read_excel(r'/content/drive/MyDrive/Employeee data.1.xlsx')\n",
        "print(df)\n",
        "a= df['Emp Id'].mean()\n",
        "print(a)\n",
        "\n",
        "b = df['AGE'].mode()\n",
        "print(b)\n",
        "\n",
        "\n",
        "#df1 = pb.read_excel(r'/content/drive/MyDrive/Emp data.2.xlsx')\n",
        "#print(df1)"
      ],
      "metadata": {
        "colab": {
          "base_uri": "https://localhost:8080/"
        },
        "id": "-_zKZPFE9KaW",
        "outputId": "6a268eae-7ec7-4fbb-bf19-f3fed356bc61"
      },
      "execution_count": null,
      "outputs": [
        {
          "output_type": "stream",
          "name": "stdout",
          "text": [
            "    sr.no        Emp name  Emp Id Emp Date of Birth  AGE\n",
            "0       1           Rohit     101        1999-05-11   24\n",
            "1       2          Pranay     102        2004-02-29   18\n",
            "2       3        Sushant      103        1976-05-12   47\n",
            "3       4          Ganesh     104        1983-07-15   40\n",
            "4       5            Yash     105        1999-10-26   24\n",
            "5       6          Akshit     106        2002-09-21   21\n",
            "6       7        Kaustubh     107        1998-07-16   25\n",
            "7       8         Atharva     108        1989-07-18   34\n",
            "8       9         Shardul     109        2000-12-31   23\n",
            "9      10        Avishkar     110        1994-06-08   29\n",
            "10     11     virat Kohli     111        1968-07-03   55\n",
            "11     12    Rohit sharma     112        2004-02-20   18\n",
            "12     13       John Wick     113        2004-06-30   18\n",
            "13     14       Elon Musk     114        1998-11-26   25\n",
            "14     15           Vijay     115        1974-08-15   49\n",
            "15     16          Sanket     116        1997-06-26   26\n",
            "16     17           Rahul     117        1996-07-10   27\n",
            "17     18         Maxwell     118        1968-08-11   55\n",
            "18     19    David warner     119        1993-10-09   30\n",
            "19     20  Mohammed Shami     120        1997-07-07   26\n",
            "110.5\n",
            "0    18\n",
            "Name: AGE, dtype: int64\n"
          ]
        }
      ]
    },
    {
      "cell_type": "code",
      "source": [
        "import pandas as pd\n",
        "import matplotlib.pyplot as plt\n",
        "\n",
        "df = pb.read_excel(r'/content/drive/MyDrive/Employeee data.1 (1).xlsx'')\n",
        "plt.pie(df['AGE'])\n",
        "plt.show()\n"
      ],
      "metadata": {
        "colab": {
          "base_uri": "https://localhost:8080/",
          "height": 406
        },
        "id": "QEbNe-w2JSPQ",
        "outputId": "a4ce6610-614c-4855-ca9b-a11312cf5136"
      },
      "execution_count": null,
      "outputs": [
        {
          "output_type": "display_data",
          "data": {
            "text/plain": [
              "<Figure size 640x480 with 1 Axes>"
            ],
            "image/png": "[encoded data removed]"
          },
          "metadata": {}
        }
      ]
    },
    {
      "cell_type": "code",
      "source": [
        "import pandas as pd\n",
        "import matplotlib.pyplot as plt\n",
        "\n",
        "df=pd.read_excel(r'/content/drive/MyDrive/Employeee data.1 (1).xlsx')\n",
        "plt.pie(df['AGE'],labels=df['Emp name'])\n",
        "plt.show()\n",
        "\n"
      ],
      "metadata": {
        "colab": {
          "base_uri": "https://localhost:8080/",
          "height": 406
        },
        "id": "_mi_5RGSJSfm",
        "outputId": "a3462e9e-6a7d-4faf-8b40-375f5f1d0708"
      },
      "execution_count": null,
      "outputs": [
        {
          "output_type": "display_data",
          "data": {
            "text/plain": [
              "<Figure size 640x480 with 1 Axes>"
            ],
            "image/png": "[encoded data removed]"
          },
          "metadata": {}
        }
      ]
    },
    {
      "cell_type": "code",
      "source": [
        "#program without lambda\n",
        "def get_square(a):\n",
        " return a*a\n",
        "print(get_square(2))\n"
      ],
      "metadata": {
        "id": "npSN0FA-KErv",
        "colab": {
          "base_uri": "https://localhost:8080/"
        },
        "outputId": "1ba9679e-fded-471c-abda-f1d0d838c5fc"
      },
      "execution_count": null,
      "outputs": [
        {
          "output_type": "stream",
          "name": "stdout",
          "text": [
            "4\n"
          ]
        }
      ]
    },
    {
      "cell_type": "code",
      "source": [
        "#program with lambda\n",
        "square=lambda a:a*a\n",
        "print(square(2))"
      ],
      "metadata": {
        "id": "IPBfmDxVKEt2",
        "colab": {
          "base_uri": "https://localhost:8080/"
        },
        "outputId": "7e2b96c9-4c76-4977-9b46-a569d47dd68b"
      },
      "execution_count": null,
      "outputs": [
        {
          "output_type": "stream",
          "name": "stdout",
          "text": [
            "4\n"
          ]
        }
      ]
    },
    {
      "cell_type": "code",
      "source": [
        "\n",
        "#Dictinory operations\n",
        "dict1 = {\"abc\":564522,\"efg\":54}\n",
        "print(dict1)\n",
        "print(dict1.keys())\n",
        "print(dict1.values())\n",
        "dict1.update({\"fdh\":4-6-2023})\n",
        "print(dict1)\n",
        "a = dict1.__len__()\n",
        "print(a)\n",
        "dict1.pop(\"fgh\")\n",
        "print(dict1)"
      ],
      "metadata": {
        "id": "tsrb37iJKEvv",
        "colab": {
          "base_uri": "https://localhost:8080/",
          "height": 304
        },
        "outputId": "6d1295e4-2835-43a2-dfb9-143ed25a59b2"
      },
      "execution_count": null,
      "outputs": [
        {
          "output_type": "stream",
          "name": "stdout",
          "text": [
            "{'abc': 564522, 'efg': 54}\n",
            "dict_keys(['abc', 'efg'])\n",
            "dict_values([564522, 54])\n",
            "{'abc': 564522, 'efg': 54, 'fdh': -2025}\n",
            "3\n"
          ]
        },
        {
          "output_type": "error",
          "ename": "KeyError",
          "evalue": "ignored",
          "traceback": [
            "\u001b[0;31m---------------------------------------------------------------------------\u001b[0m",
            "\u001b[0;31mKeyError\u001b[0m                                  Traceback (most recent call last)",
            "\u001b[0;32m<ipython-input-14-9b56a226305f>\u001b[0m in \u001b[0;36m<cell line: 10>\u001b[0;34m()\u001b[0m\n\u001b[1;32m      8\u001b[0m \u001b[0ma\u001b[0m \u001b[0;34m=\u001b[0m \u001b[0mdict1\u001b[0m\u001b[0;34m.\u001b[0m\u001b[0m__len__\u001b[0m\u001b[0;34m(\u001b[0m\u001b[0;34m)\u001b[0m\u001b[0;34m\u001b[0m\u001b[0;34m\u001b[0m\u001b[0m\n\u001b[1;32m      9\u001b[0m \u001b[0mprint\u001b[0m\u001b[0;34m(\u001b[0m\u001b[0ma\u001b[0m\u001b[0;34m)\u001b[0m\u001b[0;34m\u001b[0m\u001b[0;34m\u001b[0m\u001b[0m\n\u001b[0;32m---> 10\u001b[0;31m \u001b[0mdict1\u001b[0m\u001b[0;34m.\u001b[0m\u001b[0mpop\u001b[0m\u001b[0;34m(\u001b[0m\u001b[0;34m\"fgh\"\u001b[0m\u001b[0;34m)\u001b[0m\u001b[0;34m\u001b[0m\u001b[0;34m\u001b[0m\u001b[0m\n\u001b[0m\u001b[1;32m     11\u001b[0m \u001b[0mprint\u001b[0m\u001b[0;34m(\u001b[0m\u001b[0mdict1\u001b[0m\u001b[0;34m)\u001b[0m\u001b[0;34m\u001b[0m\u001b[0;34m\u001b[0m\u001b[0m\n",
            "\u001b[0;31mKeyError\u001b[0m: 'fgh'"
          ]
        }
      ]
    },
    {
      "cell_type": "code",
      "source": [
        "\n",
        "def Merge(dict1, dict2):\n",
        "    return(dict2.update(dict1))\n",
        "dict1 = {'q': 10, \"AAB\": 8}\n",
        "dict2 = {'d': 6, 'c': 4}\n",
        "print(Merge(dict1, dict2))\n",
        "\n",
        "\n",
        "print(dict2)"
      ],
      "metadata": {
        "colab": {
          "base_uri": "https://localhost:8080/"
        },
        "id": "B4OIhxQeWuy-",
        "outputId": "d144aba4-6762-4ca0-a257-7c44667daed6"
      },
      "execution_count": null,
      "outputs": [
        {
          "output_type": "stream",
          "name": "stdout",
          "text": [
            "None\n",
            "{'d': 6, 'c': 4, 'q': 10, 'AAB': 8}\n"
          ]
        }
      ]
    },
    {
      "cell_type": "code",
      "source": [
        "tup1 = (12,10,54)\n",
        "tup2 = (45,56,45)\n",
        "tup3=tup1+tup2\n",
        "\n",
        "print(tup3)\n",
        "\n"
      ],
      "metadata": {
        "colab": {
          "base_uri": "https://localhost:8080/"
        },
        "id": "QbRc_BmHY3ve",
        "outputId": "08c75d6d-c08d-4c61-e084-b6986c781299"
      },
      "execution_count": null,
      "outputs": [
        {
          "output_type": "stream",
          "name": "stdout",
          "text": [
            "(12, 10, 54, 45, 56, 45)\n"
          ]
        }
      ]
    },
    {
      "cell_type": "code",
      "source": [
        "import pandas as hero\n",
        "df1=hero.DataFrame({'Employee':['yash', 'sushant' ,'pranay'], 'Field' :['Accounting','Engineering','HR']})\n",
        "df2=hero.DataFrame({'Employee':['yash', 'sushant','pranay'],'Hire_Date' : [2004,2008,2026]})\n",
        "df3 = hero.merge(df1,df2)\n",
        "print(df3)"
      ],
      "metadata": {
        "colab": {
          "base_uri": "https://localhost:8080/"
        },
        "id": "5xa5iRrQcpNO",
        "outputId": "bb3bd2c9-d44b-4c95-99e7-2a0a4ab13538"
      },
      "execution_count": null,
      "outputs": [
        {
          "output_type": "stream",
          "name": "stdout",
          "text": [
            "  Employee        Field  Hire_Date\n",
            "0     yash   Accounting       2004\n",
            "1  sushant  Engineering       2008\n",
            "2   pranay           HR       2026\n"
          ]
        }
      ]
    },
    {
      "cell_type": "code",
      "source": [
        "import pandas as hi\n",
        "l1=['a','b','c','d','e','f']\n",
        "l2=[10,12,15,16,17,]\n",
        "\n",
        "df=hi.DataFrame(list(zip(l1,l2)),columns=['name', 'val'])\n",
        "print(df)"
      ],
      "metadata": {
        "colab": {
          "base_uri": "https://localhost:8080/"
        },
        "id": "Rn_dx_G8h1vv",
        "outputId": "990b1dde-bf3c-41e0-8837-37eaf2daad92"
      },
      "execution_count": null,
      "outputs": [
        {
          "output_type": "stream",
          "name": "stdout",
          "text": [
            "  name  val\n",
            "0    a   10\n",
            "1    b   12\n",
            "2    c   15\n",
            "3    d   16\n",
            "4    e   17\n"
          ]
        }
      ]
    },
    {
      "cell_type": "code",
      "source": [
        "import numpy as np\n",
        "x = np.array([1,2,3,4,6,5])\n",
        "y = np.array([2,7,9])\n",
        "X=x.reshape(2,3)\n",
        "print(\"X =\",x)\n",
        "print(\"\\n y=\",y)\n",
        "z=X+y\n",
        "print(\"X + y=\",z)"
      ],
      "metadata": {
        "colab": {
          "base_uri": "https://localhost:8080/"
        },
        "id": "HSiJbfpvlzDG",
        "outputId": "0123b558-aec4-4d2f-90a3-ad42de8c4da3"
      },
      "execution_count": null,
      "outputs": [
        {
          "output_type": "stream",
          "name": "stdout",
          "text": [
            "X = [1 2 3 4 6 5]\n",
            "\n",
            " y= [2 7 9]\n",
            "X + y= [[ 3  9 12]\n",
            " [ 6 13 14]]\n"
          ]
        }
      ]
    },
    {
      "cell_type": "code",
      "source": [
        "#calculate today date\n",
        "from datetime import date\n",
        "today = date.today()\n",
        "print(today)\n"
      ],
      "metadata": {
        "colab": {
          "base_uri": "https://localhost:8080/"
        },
        "id": "SSxIwUSSFg-W",
        "outputId": "c626e533-a65b-4b3b-c432-fc96af08f88d"
      },
      "execution_count": null,
      "outputs": [
        {
          "output_type": "stream",
          "name": "stdout",
          "text": [
            "2023-05-03\n"
          ]
        }
      ]
    },
    {
      "cell_type": "code",
      "source": [
        "# importing datetime module for now()\n",
        "import datetime\n",
        "#using now() to get current time\n",
        "current_time=datetime.datetime.now()\n",
        "\n",
        "#printing attribute of now()\n",
        "print(\"the attribute of now() are :\")\n",
        "print(\"day: \",end =\"\")\n",
        "print(\"current_time.day\")\n",
        "print(\"year: \",end =\"\")\n",
        "print(current_time.year)\n",
        "print(\"month:\",end=\"\")\n",
        "print(current_time.month)\n"
      ],
      "metadata": {
        "colab": {
          "base_uri": "https://localhost:8080/"
        },
        "id": "eurqlhiLFhA0",
        "outputId": "28c0cd94-8e2d-41b8-88f1-39ce5b26b852"
      },
      "execution_count": null,
      "outputs": [
        {
          "output_type": "stream",
          "name": "stdout",
          "text": [
            "the attribute of now() are :\n",
            "day: current_time.day\n",
            "year: 2023\n",
            "month:5\n"
          ]
        }
      ]
    },
    {
      "cell_type": "code",
      "source": [
        "def calculateAge(dob):\n",
        "  today = datetime()\n",
        "  #check if current month and date are less than birth month and date\n",
        "  age =today.year - dob.year-((today.month,today.day) < (dob.month))\n",
        "  return age\n",
        "  print(calculateAge(date(2003,12,4)),\"year old\")"
      ],
      "metadata": {
        "id": "fEwMWinaUkMr"
      },
      "execution_count": null,
      "outputs": []
    },
    {
      "cell_type": "code",
      "source": [
        "import csv\n",
        "#opening files\n",
        "f1 = open(\"/content/result.csv\",\"r\")\n",
        "f2 = open(\"/content/PACKAGE.csv\",\"r\")\n",
        "f3 = open(\"/content/Student1.csv\",\"w\")\n",
        "\n",
        "d1=list(csv.reader(f1,delimiter=','))\n",
        "d2=list(csv.reader(f2,delimiter=','))\n",
        "\n",
        "print(\"file 1 content:\",d1,\"\\n\\n\")\n",
        "print(\"file 2 content:\",d2,\"\\n\\n\")\n",
        "\n",
        "#writing data in f3\n",
        "d3=[]\n",
        "for i in range (len(d1)):\n",
        "  d3.append(d1[i]+d2[i])\n",
        "\n",
        "\n",
        "print(d3,\"\\n\\n\")\n",
        "cw=csv.writer(f3)\n",
        "cw.writerows(d3)\n",
        "\n",
        "\n",
        "f1.close()\n",
        "f2.close()\n",
        "f3.close()\n",
        "\n",
        "f = open(\"/content/Student1.csv\",\"r\")\n",
        "contents=f.read()\n",
        "\n",
        "lines=contents.split(\"\\n\")\n",
        "\n",
        "eid=[]; nm = [] ; per = [] ; sal = [] ;\n",
        "\n",
        "for l in range (10):\n",
        "   words = lines[l].split(\",\")\n",
        "   print(words)\n",
        "   eid.append(int(words[0]))\n",
        "   nm.append(words[1])\n",
        "   per.append(int(words[2]))\n",
        "   sal.append(int(words[3]))\n",
        "\n",
        "#Max Salary\n",
        "print(\"\\n\\nMaximum Salary is\", max(sal),\"to\",nm [sal.index(max(sal))])\n",
        "\n",
        "#Min Salary\n",
        "print(\"\\n\\nMinimum Salary is\", min(sal),\"to\",nm[sal.index(min(sal))])\n",
        "\n",
        "#Sum of salary\n",
        "print(\"\\n\\nTotal salary is\", sum(sal))\n",
        "\n",
        "#Average Salary\n",
        "print(\"\\n\\nAverage Salary is\", sum(sal)/len(sal))\n",
        "\n",
        "#Max percentage\n",
        "print(\"\\n\\nMaximum percentage is\", max(per),\"to\", nm [per.index(max(per))])\n",
        "\n",
        "#Min percentage\n",
        "print(\"\\n\\nMinimum percentage is\", min(per),\"to\", nm [per.index(min(per))])\n",
        "\n",
        "#Average percentage\n",
        "print(\"\\n\\nAverage percentage is\", sum(per)/len(per))\n"
      ],
      "metadata": {
        "id": "JuKklLv0V77J",
        "colab": {
          "base_uri": "https://localhost:8080/",
          "height": 428
        },
        "outputId": "0f12e557-c5a6-4691-e093-a017bcd2a9b0"
      },
      "execution_count": null,
      "outputs": [
        {
          "output_type": "stream",
          "name": "stdout",
          "text": [
            "file 1 content: [['PRN', 'MATH', 'PHYSICS'], ['1070029', '69', '55'], ['1090008', '62', '50'], ['1060048', '70', '62'], ['1040041', '74', '70'], ['1040038', '61', '55']] \n",
            "\n",
            "\n",
            "file 2 content: [['PRN', 'PACKAGE'], ['1070029', '1000000'], ['1090008', '800000'], ['1060048', '1100000'], ['1040041', '1200000'], ['1040038', '900000']] \n",
            "\n",
            "\n",
            "[['PRN', 'MATH', 'PHYSICS', 'PRN', 'PACKAGE'], ['1070029', '69', '55', '1070029', '1000000'], ['1090008', '62', '50', '1090008', '800000'], ['1060048', '70', '62', '1060048', '1100000'], ['1040041', '74', '70', '1040041', '1200000'], ['1040038', '61', '55', '1040038', '900000']] \n",
            "\n",
            "\n",
            "['PRN', 'MATH', 'PHYSICS', 'PRN', 'PACKAGE']\n"
          ]
        },
        {
          "output_type": "error",
          "ename": "ValueError",
          "evalue": "ignored",
          "traceback": [
            "\u001b[0;31m---------------------------------------------------------------------------\u001b[0m",
            "\u001b[0;31mValueError\u001b[0m                                Traceback (most recent call last)",
            "\u001b[0;32m<ipython-input-11-d1f83f89484a>\u001b[0m in \u001b[0;36m<cell line: 35>\u001b[0;34m()\u001b[0m\n\u001b[1;32m     36\u001b[0m    \u001b[0mwords\u001b[0m \u001b[0;34m=\u001b[0m \u001b[0mlines\u001b[0m\u001b[0;34m[\u001b[0m\u001b[0ml\u001b[0m\u001b[0;34m]\u001b[0m\u001b[0;34m.\u001b[0m\u001b[0msplit\u001b[0m\u001b[0;34m(\u001b[0m\u001b[0;34m\",\"\u001b[0m\u001b[0;34m)\u001b[0m\u001b[0;34m\u001b[0m\u001b[0;34m\u001b[0m\u001b[0m\n\u001b[1;32m     37\u001b[0m    \u001b[0mprint\u001b[0m\u001b[0;34m(\u001b[0m\u001b[0mwords\u001b[0m\u001b[0;34m)\u001b[0m\u001b[0;34m\u001b[0m\u001b[0;34m\u001b[0m\u001b[0m\n\u001b[0;32m---> 38\u001b[0;31m    \u001b[0meid\u001b[0m\u001b[0;34m.\u001b[0m\u001b[0mappend\u001b[0m\u001b[0;34m(\u001b[0m\u001b[0mint\u001b[0m\u001b[0;34m(\u001b[0m\u001b[0mwords\u001b[0m\u001b[0;34m[\u001b[0m\u001b[0;36m0\u001b[0m\u001b[0;34m]\u001b[0m\u001b[0;34m)\u001b[0m\u001b[0;34m)\u001b[0m\u001b[0;34m\u001b[0m\u001b[0;34m\u001b[0m\u001b[0m\n\u001b[0m\u001b[1;32m     39\u001b[0m    \u001b[0mnm\u001b[0m\u001b[0;34m.\u001b[0m\u001b[0mappend\u001b[0m\u001b[0;34m(\u001b[0m\u001b[0mwords\u001b[0m\u001b[0;34m[\u001b[0m\u001b[0;36m1\u001b[0m\u001b[0;34m]\u001b[0m\u001b[0;34m)\u001b[0m\u001b[0;34m\u001b[0m\u001b[0;34m\u001b[0m\u001b[0m\n\u001b[1;32m     40\u001b[0m    \u001b[0mper\u001b[0m\u001b[0;34m.\u001b[0m\u001b[0mappend\u001b[0m\u001b[0;34m(\u001b[0m\u001b[0mint\u001b[0m\u001b[0;34m(\u001b[0m\u001b[0mwords\u001b[0m\u001b[0;34m[\u001b[0m\u001b[0;36m2\u001b[0m\u001b[0;34m]\u001b[0m\u001b[0;34m)\u001b[0m\u001b[0;34m)\u001b[0m\u001b[0;34m\u001b[0m\u001b[0;34m\u001b[0m\u001b[0m\n",
            "\u001b[0;31mValueError\u001b[0m: invalid literal for int() with base 10: 'PRN'"
          ]
        }
      ]
    },
    {
      "cell_type": "code",
      "source": [
        "import csv\n",
        "file1 = open(\"/content/result.csv\",'r')\n",
        "file2 = open(\"/content/PACKAGE.csv\", 'r')\n",
        "file3 = open(\"/content/Student1.csv\", 'r')\n",
        "listinfo = []\n",
        "for i in file1:\n",
        "    print(i)\n",
        "\n",
        "for i in file2:\n",
        "    print(i)\n",
        "\n",
        "for i in file3:\n",
        "    print(i)\n",
        "\n",
        "file2.close()\n",
        "file1.close()\n",
        "file3.close()\n",
        "\n",
        "file1 = open(\"/content/result.csv\", 'r')\n",
        "file2 = open(\"/content/PACKAGE.csv\", 'r')\n",
        "file3 = open(\"/content/Student1.csv\", 'r')\n",
        "data1 = list(csv.reader(file1, delimiter=','))\n",
        "data2 = list(csv.reader(file2, delimiter=','))\n",
        "data3 = list(csv.reader(file3, delimiter=','))\n",
        "for i in range(6):\n",
        "    listinfo.append(data1[i] + data2[i] + data3[i])\n",
        "for i in listinfo:\n",
        "    print(i)\n",
        "\n",
        "b = len(listinfo)\n",
        "listm1 = []\n",
        "for i in range(1, b, 1):\n",
        "    listm1.append(int(listinfo[i][2]))\n",
        "listm1.sort()\n",
        "print(\"stored value are\", listm1)\n",
        "print(\"the highest marks in sub 1 = \", max(listm1))\n",
        "print(\"the lowest marks in sub 1 = \", min(listm1))\n",
        "m = sum(listm1) / len(listm1)\n",
        "print(\"the average marks in sub1 = \", m)\n",
        "\n",
        "file2.close()\n",
        "file1.close()\n",
        "listm2=[]\n",
        "\n",
        "for i in range(1, b, 1):\n",
        "    listm2.append(int(listinfo[i][1]))\n",
        "listm2.sort()\n",
        "print(\"stored value are\", listm2)\n",
        "print(\"the highest marks in sub 2 = \", max(listm2))\n",
        "print(\"the lowest marks in sub 2 = \", min(listm2))\n",
        "m = sum(listm2) / len(listm2)\n",
        "print(\"the average marks in sub 2 = \", m)\n",
        "\n",
        "file2.close()\n",
        "file1.close()"
      ],
      "metadata": {
        "colab": {
          "base_uri": "https://localhost:8080/"
        },
        "id": "0h2UH4ZfEpzJ",
        "outputId": "03b52203-0f94-4c23-c650-c685ba2b35a4"
      },
      "execution_count": null,
      "outputs": [
        {
          "output_type": "stream",
          "name": "stdout",
          "text": [
            "PRN,MATH,PHYSICS\n",
            "\n",
            "1070029,69,55\n",
            "\n",
            "1090008,62,50\n",
            "\n",
            "1060048,70,62\n",
            "\n",
            "1040041,74,70\n",
            "\n",
            "1040038,61,55\n",
            "\n",
            "PRN,PACKAGE\n",
            "\n",
            "1070029,1000000\n",
            "\n",
            "1090008,800000\n",
            "\n",
            "1060048,1100000\n",
            "\n",
            "1040041,1200000\n",
            "\n",
            "1040038,900000\n",
            "\n",
            "PRN,NAME,CLASS\n",
            "\n",
            "1070029,Pranay,C1\n",
            "\n",
            "1090008,Sushant,C1\n",
            "\n",
            "1060048,Yash,C2\n",
            "\n",
            "1040041,Avishkar,C3\n",
            "\n",
            "1040038,Akshit,C2\n",
            "\n",
            "['PRN', 'MATH', 'PHYSICS', 'PRN', 'PACKAGE', 'PRN', 'NAME', 'CLASS']\n",
            "['1070029', '69', '55', '1070029', '1000000', '1070029', 'Pranay', 'C1']\n",
            "['1090008', '62', '50', '1090008', '800000', '1090008', 'Sushant', 'C1']\n",
            "['1060048', '70', '62', '1060048', '1100000', '1060048', 'Yash', 'C2']\n",
            "['1040041', '74', '70', '1040041', '1200000', '1040041', 'Avishkar', 'C3']\n",
            "['1040038', '61', '55', '1040038', '900000', '1040038', 'Akshit', 'C2']\n",
            "stored value are [50, 55, 55, 62, 70]\n",
            "the highest marks in sub 1 =  70\n",
            "the lowest marks in sub 1 =  50\n",
            "the average marks in sub1 =  58.4\n",
            "stored value are [61, 62, 69, 70, 74]\n",
            "the highest marks in sub 2 =  74\n",
            "the lowest marks in sub 2 =  61\n",
            "the average marks in sub 2 =  67.2\n"
          ]
        }
      ]
    },
    {
      "cell_type": "code",
      "source": [
        "def merge_list_and_tuple(lst, tpl):\n",
        "    merged = list(lst) + list(tpl)\n",
        "    return merged\n",
        "\n",
        "my_list = [1, 2, 3]\n",
        "my_tuple = (4, 5, 6)\n",
        "\n",
        "merged_list_and_tuple = merge_list_and_tuple(my_list, my_tuple)\n",
        "print(merged_list_and_tuple)"
      ],
      "metadata": {
        "id": "EppHOtPkO8Fk",
        "outputId": "3ed133af-8afc-43c2-9d4b-782a70221b32",
        "colab": {
          "base_uri": "https://localhost:8080/"
        }
      },
      "execution_count": null,
      "outputs": [
        {
          "output_type": "stream",
          "name": "stdout",
          "text": [
            "[1, 2, 3, 4, 5, 6]\n"
          ]
        }
      ]
    },
    {
      "cell_type": "code",
      "source": [
        "from itertools import count\n",
        "for number in count(start=5,step=3):\n",
        "  if number>10:\n",
        "    break\n",
        "    print(number)"
      ],
      "metadata": {
        "id": "olv8EAwhZ8dr"
      },
      "execution_count": null,
      "outputs": []
    },
    {
      "cell_type": "code",
      "source": [
        "x = range(3,10)\n",
        "for n in x:\n",
        "  print(n)"
      ],
      "metadata": {
        "colab": {
          "base_uri": "https://localhost:8080/"
        },
        "id": "4kCVRtGlZ9Mm",
        "outputId": "b52464fd-517b-473e-9011-e0d64cbe0e5f"
      },
      "execution_count": null,
      "outputs": [
        {
          "output_type": "stream",
          "name": "stdout",
          "text": [
            "3\n",
            "4\n",
            "5\n",
            "6\n",
            "7\n",
            "8\n",
            "9\n"
          ]
        }
      ]
    },
    {
      "cell_type": "code",
      "source": [
        "import math\n",
        "print(math.pow(4,5))"
      ],
      "metadata": {
        "colab": {
          "base_uri": "https://localhost:8080/"
        },
        "id": "yDKqBA6DnTNT",
        "outputId": "8dd8ceae-7524-4380-b63f-642dfa604be7"
      },
      "execution_count": null,
      "outputs": [
        {
          "output_type": "stream",
          "name": "stdout",
          "text": [
            "1024.0\n"
          ]
        }
      ]
    },
    {
      "cell_type": "code",
      "source": [
        "import operator\n",
        "a=4\n",
        "b=5\n",
        "print(\"the addition of two number is:\",\"\");\n",
        "print(operator.add(a, b))\n",
        "print(\"the subtract of two number is:\",end=\"\");\n",
        "print(operator.sub(a, b))\n",
        "print(\"the multiplication of two number is:\",end=\"\");\n",
        "print(operator.mul(a, b))"
      ],
      "metadata": {
        "colab": {
          "base_uri": "https://localhost:8080/"
        },
        "id": "Se9nWPhpnbsW",
        "outputId": "be3a2af0-8b68-41fc-9cf7-cf92cf2f4f26"
      },
      "execution_count": null,
      "outputs": [
        {
          "output_type": "stream",
          "name": "stdout",
          "text": [
            "the addition of two number is: \n",
            "9\n",
            "the subtract of two number is:-1\n",
            "the multiplication of two number is:20\n"
          ]
        }
      ]
    },
    {
      "cell_type": "code",
      "source": [
        "from decimal import Decimal\n",
        "import decimal\n",
        "from decimal import Decimal\n",
        "x=Decimal('0.5')\n",
        "y=Decimal('0.6')\n",
        "z=Decimal('0.9')\n",
        "\n",
        "s =x+y+z\n",
        "print(s)"
      ],
      "metadata": {
        "colab": {
          "base_uri": "https://localhost:8080/"
        },
        "id": "cQn0QLFincH9",
        "outputId": "cf7bbb00-55e5-41c4-cfde-c611b2d2871b"
      },
      "execution_count": null,
      "outputs": [
        {
          "output_type": "stream",
          "name": "stdout",
          "text": [
            "2.0\n"
          ]
        }
      ]
    },
    {
      "cell_type": "code",
      "source": [
        "from decimal import Decimal\n",
        "float_division=7/3\n",
        "decimal_division=decimal.Decimal(7)/decimal.Decimal(3)\n",
        "print(\"result for float division of 4 by 5:\")\n",
        "print(float_division)\n",
        "print(\"result for decimal division of 4 by 5:\")\n",
        "print(decimal_division)\n"
      ],
      "metadata": {
        "colab": {
          "base_uri": "https://localhost:8080/"
        },
        "id": "14WN9tVGncVN",
        "outputId": "da31ca87-6c96-445b-b6ae-caeeafae9268"
      },
      "execution_count": null,
      "outputs": [
        {
          "output_type": "stream",
          "name": "stdout",
          "text": [
            "result for float division of 4 by 5:\n",
            "2.3333333333333335\n",
            "result for decimal division of 4 by 5:\n",
            "2.333333333333333333333333333\n"
          ]
        }
      ]
    },
    {
      "cell_type": "code",
      "source": [
        "from fractions import Fraction\n",
        "print(Fraction(54,65))\n",
        "print(Fraction(84,21))\n",
        "print(Fraction(23,14))"
      ],
      "metadata": {
        "colab": {
          "base_uri": "https://localhost:8080/"
        },
        "id": "eKrvzeZHsHRp",
        "outputId": "4d7f7828-7db0-4a57-de41-c5514efe59a8"
      },
      "execution_count": null,
      "outputs": [
        {
          "output_type": "stream",
          "name": "stdout",
          "text": [
            "54/65\n",
            "4\n",
            "23/14\n"
          ]
        }
      ]
    },
    {
      "cell_type": "code",
      "source": [
        "a=5//3\n",
        "print(a)\n"
      ],
      "metadata": {
        "colab": {
          "base_uri": "https://localhost:8080/"
        },
        "id": "eQSXE0gnsluB",
        "outputId": "2677a1c9-61f4-4a28-ef27-d52fd91327e1"
      },
      "execution_count": null,
      "outputs": [
        {
          "output_type": "stream",
          "name": "stdout",
          "text": [
            "1\n"
          ]
        }
      ]
    },
    {
      "cell_type": "code",
      "source": [
        "x = range(100,45,-6)\n",
        "for n in x:\n",
        "  print(n)\n"
      ],
      "metadata": {
        "colab": {
          "base_uri": "https://localhost:8080/"
        },
        "id": "M0iTUmmAtMpf",
        "outputId": "95083c25-b78d-42fe-ed7b-ad304781c59d"
      },
      "execution_count": null,
      "outputs": [
        {
          "output_type": "stream",
          "name": "stdout",
          "text": [
            "100\n",
            "94\n",
            "88\n",
            "82\n",
            "76\n",
            "70\n",
            "64\n",
            "58\n",
            "52\n",
            "46\n"
          ]
        }
      ]
    },
    {
      "cell_type": "code",
      "source": [
        "import pandas as pd\n",
        "import numpy as np\n",
        "\n",
        "df = pd.read_csv('/content/pranay.01.csv')\n",
        "df1 =pd.read_csv('/content/pranay02..csv', header = None)\n",
        "\n",
        "array =df.to_numpy()\n",
        "array1 = df1.to_numpy()\n",
        "\n",
        "print(array)\n",
        "print(array1)\n",
        "\n"
      ],
      "metadata": {
        "id": "DHMd71eythGp",
        "colab": {
          "base_uri": "https://localhost:8080/"
        },
        "outputId": "12dad683-0a2e-4a89-9b13-16bf296f363b"
      },
      "execution_count": null,
      "outputs": [
        {
          "output_type": "stream",
          "name": "stdout",
          "text": [
            "[[1 301 'a']\n",
            " [2 302 'b']\n",
            " [3 303 'c']\n",
            " [4 304 'd']\n",
            " [5 305 'e']\n",
            " [6 306 'f']\n",
            " [7 307 'g']\n",
            " [8 308 'h']\n",
            " [9 309 'i']\n",
            " [10 310 'k']]\n",
            "[['sr.no' 'Roll.no.' 'AGE']\n",
            " ['1' '301' '20']\n",
            " ['2' '302' '18']\n",
            " ['3' '303' '17']\n",
            " ['4' '304' '20']\n",
            " ['5' '305' '20']\n",
            " ['6' '306' '21']\n",
            " ['7' '307' '18']\n",
            " ['8' '308' '18']\n",
            " ['9' '309' '19']\n",
            " ['10' '310' '20']]\n"
          ]
        }
      ]
    },
    {
      "cell_type": "code",
      "source": [
        "import pandas as pd\n",
        "import numpy as np\n",
        "\n",
        "df = pd.read_csv('/content/Mobile.csv')\n",
        "print(df)"
      ],
      "metadata": {
        "colab": {
          "base_uri": "https://localhost:8080/"
        },
        "id": "jZc9mvt8wDMr",
        "outputId": "d59b97ec-ff7a-4396-ef39-59a0aeecb855"
      },
      "execution_count": null,
      "outputs": [
        {
          "output_type": "stream",
          "name": "stdout",
          "text": [
            "  Product ID Product Name           CEO  Active User(million)\n",
            "0       A001      Samsung  Hyun Suk Kim                   320\n",
            "1       A002       realme        Ski Li                   140\n",
            "2       A003         vivo      Shen Wei                   210\n",
            "3       A004     motorola    Greg Brown                   190\n",
            "4       A005       Xiaomi       Lei Jun                   287\n",
            "5       A006      oneplus      Pete Lau                   459\n",
            "6       A007         oppo     Tony Chen                   165\n",
            "7       A008       Huawei  Ren Zhengfei                   278\n",
            "8       A009      Nothing      Carl Pei                   145\n",
            "9       A010       Iphone      Tim cook                   780\n"
          ]
        }
      ]
    },
    {
      "cell_type": "code",
      "source": [
        "#Find highest number of active user.\n",
        "# import pd as Active User\n",
        "\n",
        "Active_User={320,140,210,190,287,459,165,278,145,780}\n",
        "highest_number=max(Active_User)\n",
        "print(\"the highest number of user is =\",highest_number)"
      ],
      "metadata": {
        "colab": {
          "base_uri": "https://localhost:8080/"
        },
        "id": "Pr8e6q-RL0Xk",
        "outputId": "80b00f2a-f69a-4516-ed48-5e4634453f28"
      },
      "execution_count": null,
      "outputs": [
        {
          "output_type": "stream",
          "name": "stdout",
          "text": [
            "the highest number of user is = 780\n"
          ]
        }
      ]
    },
    {
      "cell_type": "code",
      "source": [
        "import pandas as pd\n",
        "df=read_csv('')\n",
        "print(df)"
      ],
      "metadata": {
        "id": "RPbN6KeZklWm"
      },
      "execution_count": null,
      "outputs": []
    },
    {
      "cell_type": "code",
      "source": [
        "df.columns =['column1','column2','column3','column4']\n",
        "print(df.columns)\n"
      ],
      "metadata": {
        "id": "pEU6sKsGkysN"
      },
      "execution_count": null,
      "outputs": []
    },
    {
      "cell_type": "code",
      "source": [
        "print(\"Addition of matrix\")\n",
        "print(np.add(array,array1))"
      ],
      "metadata": {
        "id": "MnQmErZElQMy"
      },
      "execution_count": null,
      "outputs": []
    },
    {
      "cell_type": "code",
      "source": [
        "array1=array1[array1[:,1].argsort(kind='mergesort')]\n",
        "#array1=array1[array1[:,0].argsort(kind='mergesort')]\n",
        "print(array1)"
      ],
      "metadata": {
        "id": "Czu0vljHlgYo"
      },
      "execution_count": null,
      "outputs": []
    },
    {
      "cell_type": "code",
      "source": [
        "#shallow copy\n",
        "array3=array1.view()\n",
        "print(array3)\n"
      ],
      "metadata": {
        "id": "MgRau8YwmVxY"
      },
      "execution_count": null,
      "outputs": []
    },
    {
      "cell_type": "code",
      "source": [
        "#copy\n",
        "array3=array1.copy()\n",
        "print(array3)"
      ],
      "metadata": {
        "id": "nFAHgmqmnBgN"
      },
      "execution_count": null,
      "outputs": []
    },
    {
      "cell_type": "markdown",
      "source": [
        "# New Section"
      ],
      "metadata": {
        "id": "0bvzWznuXte3"
      }
    },
    {
      "cell_type": "code",
      "source": [
        "Product_ID=[]\n",
        "Product_Name=dict()\n",
        "CEO=[]\n",
        "Active_User={}\n",
        "\n",
        "f1=open(\"/content/Mobile.csv\",\"r\")\n",
        "data=f1.readline()\n",
        "\n",
        "while(True):\n",
        "  data=f1.readline()\n",
        "  if not data:\n",
        "    break;\n",
        "\n",
        "# temp=data.split(\",\")\n",
        "# Product_ID.append(temp[1])\n",
        "# Product_Name(temp[3])\n",
        "# CEO.update({temp[0]:temp[2]})\n",
        "# Active_User.update({temp[3]:temp[4]})\n",
        "\n",
        "f1.close()\n",
        "CEO=tuple(CEO)\n",
        "print(type(CEO))"
      ],
      "metadata": {
        "id": "eD4jQ7aNyhli",
        "colab": {
          "base_uri": "https://localhost:8080/"
        },
        "outputId": "75c8442f-9786-4199-f2b1-ab04d19cb6a0"
      },
      "execution_count": null,
      "outputs": [
        {
          "output_type": "stream",
          "name": "stdout",
          "text": [
            "<class 'tuple'>\n"
          ]
        }
      ]
    },
    {
      "cell_type": "code",
      "source": [
        "f=open(\"/content/Product ID.csv\",Product_ID,end=\"\")"
      ],
      "metadata": {
        "colab": {
          "base_uri": "https://localhost:8080/"
        },
        "id": "lGy5Kr1CCMe1",
        "outputId": "23e1bc28-d134-4073-8a35-b2307b66d512"
      },
      "execution_count": null,
      "outputs": [
        {
          "output_type": "stream",
          "name": "stdout",
          "text": [
            "/content/Product ID.csv []"
          ]
        }
      ]
    },
    {
      "cell_type": "code",
      "source": [
        "Product_details=[]\n",
        "supplier_details=dict()\n",
        "customer_details=[]\n",
        "gender={}\n",
        "\n",
        "fp1=open(\"/content/Sales.csv\",\"r\")\n",
        "data=fp1.readline()\n",
        "\n",
        "while(True):\n",
        "\n",
        "  data=fp1.readline()\n",
        "  if not data:\n",
        "    break;\n",
        "\n",
        "  temp=data.split(\",\")\n",
        "  Product_details.append(temp[1])\n",
        "  customer_details.append(temp[3])\n",
        "  supplier_details.update({temp[0]:temp[2]})\n",
        "  gender.update({temp[3]:temp[4]})\n",
        "\n",
        "fp1.close()\n",
        "\n",
        "customer_details=tuple(customer_details)\n",
        "print(type(customer_details))\n",
        "print(\"\\nProduct_details\\n\",Product_details,end=\"\\n\")\n",
        "print(\"\\supplier_details\\n\",supplier_details,end=\"\\n\")\n",
        "print(\"\\customer_details\\n\",customer_details,end=\"\")\n",
        "print(\"\\ngender\\n\",gender,end=\"\")"
      ],
      "metadata": {
        "colab": {
          "base_uri": "https://localhost:8080/"
        },
        "id": "BUY1FFxBNPpB",
        "outputId": "cec9d101-fac2-4e59-cd87-ed46f976a201"
      },
      "execution_count": null,
      "outputs": [
        {
          "output_type": "stream",
          "name": "stdout",
          "text": [
            "<class 'tuple'>\n",
            "\n",
            "Product_details\n",
            " ['Lenovo Laptop', 'Samsung M31', 'Realmi 10pro', 'Oppo F21', 'Lenovo Laptop', 'Samsung M31', '\"LG TV 32\"\"\"', 'Oppo F21', 'Lenovo Laptop', 'Samsung M31', '\"LG TV 32\"\"\"', 'Lenovo Laptop', 'Samsung M31', 'Realmi 10pro', 'Lenovo Laptop', 'Oppo F21', '\"LG TV 32\"\"\"', 'Lenovo Laptop', 'Samsung M31', '\"LG TV 32\"\"\"']\n",
            "\\supplier_details\n",
            " {'P00001': 'Raka Ele.', 'P00002': 'Vijay Sales', 'P00003': 'Gada Ele.', 'P00004': 'Surya Ele.', 'P00005': 'Raka Ele.', 'P00006': 'Gada Ele.', 'P00007': 'Vijay Sales', 'P00008': 'Surya Ele.', 'P00009': 'Raka Ele.', 'P00010': 'Gada Ele.', 'P00011': 'Surya Ele.', 'P00012': 'Raka Ele.', 'P00013': 'Surya Ele.', 'P00014': 'Raka Ele.', 'P00015': 'Gada Ele.', 'P00016': 'Vijay Sales', 'P00017': 'Deshmukh sales', 'P00018': 'Raka Ele.', 'P00019': 'Deshmukh sales', 'P00020': 'Gada Ele.'}\n",
            "\\customer_details\n",
            " ('Kaustubh Mahajan', 'Siddhi Kiwale', 'Sanket Kandalkar', 'Yash Mali', 'Yash Bagul', 'Siddhi Kiwale', 'Sanket Kandalkar', 'Kaustubh Mahajan', 'Yash Mali', 'Siddhi Kiwale', 'Sanket Kandalkar', 'Kaustubh Mahajan', 'Yash Mali', 'Siddhi Kiwale', 'Tanuja Mali', 'Kaustubh Mahajan', 'Sanket Kandalkar', 'Siddhi Kiwale', 'Kaustubh Mahajan', 'Yash Mali')\n",
            "gender\n",
            " {'Kaustubh Mahajan': 'Male\\n', 'Siddhi Kiwale': 'Female\\n', 'Sanket Kandalkar': 'Male\\n', 'Yash Mali': 'Male\\n', 'Yash Bagul': 'Male\\n', 'Tanuja Mali': 'Female\\n'}"
          ]
        }
      ]
    },
    {
      "cell_type": "code",
      "source": [
        "player_team=[]\n",
        "player_runs=dict()\n",
        "mat_played=dict()\n",
        "balls_faced=dict()\n",
        "avg=dict()\n",
        "highest_score=dict()\n",
        "strike_rate=dict()\n",
        "century=[]\n",
        "fiftys=dict()\n",
        "\n",
        "f=open(\"IPL.csv\",\"r\")\n",
        "data=f.readline()\n"
      ],
      "metadata": {
        "id": "npWXKml6RQVG"
      },
      "execution_count": null,
      "outputs": []
    },
    {
      "cell_type": "code",
      "source": [
        "while(True):\n",
        "\n",
        "  data=f.readline()\n",
        "  if not data:\n",
        "    break;\n",
        "\n",
        "  print(data)\n",
        "  #data=data.replace(\"\\n\",\"\")\n",
        "  temp=data.split(\",\")\n",
        "  player_team.append(temp[2])\n",
        "  player_runs.update({temp[1]:temp[3]})\n",
        "  mat_played.update({temp[1]:temp[4]})\n",
        "  balls_faced.update({temp[1]:temp[5]})\n",
        "  avg.update({temp[1]:temp[6]})\n",
        "  highest_score.update({temp[1]:int(temp[7])})\n",
        "  strike_rate.update({temp[1]:temp[8]})\n",
        "  century.append(int(temp[10]))\n",
        "  fiftys.update({temp[1]:int(temp[10])})\n",
        "\n",
        "\n",
        "player_team=tuple(player_team)"
      ],
      "metadata": {
        "colab": {
          "base_uri": "https://localhost:8080/"
        },
        "id": "OkSUG8_zcSKn",
        "outputId": "48337d4d-83e5-448f-fabe-874734e5c9e1"
      },
      "execution_count": null,
      "outputs": [
        {
          "output_type": "stream",
          "name": "stdout",
          "text": [
            "1,MS Dhoni,CSK,630,18,667,74.1,85,135.96,6,6\n",
            "\n",
            "2,Ruturaj Gaikwad,CSK,452,16,417,53.4,101,135.19,2,4\n",
            "\n",
            "3,David Warner,DC,724,16,598,68.7,126,139.92,4,7\n",
            "\n",
            "4,Hardik Pandya,GT,664,14,478,63.5,91,145.64,3,5\n",
            "\n",
            "5,Rishabh Pant,DC,572,13,451,53.2,128,147.32,3,5\n",
            "\n",
            "6,David Miller,GT,651,12,382,43.86,103,138.46,2,4\n",
            "\n",
            "7,Venkatesh Iyer,KKR,542,13,321,50.17,104,130.25,3,4\n",
            "\n",
            "8,KL Rahul,LSG,676,16,458,64.52,132,134.72,6,6\n",
            "\n",
            "9,Rohit Sharma,MI,789,17,597,71.56,109,130.25,7,9\n",
            "\n",
            "8,Shreyas Iyer,KKR,627,13,421,54.84,103,134.51,5,6\n",
            "\n",
            "9,Deepak Hooda,LSG,564,12,384,57.25,85,138.46,4,6\n",
            "\n",
            "10,Cameron Green,MI,675,14,456,64.59,114,145.35,6,7\n",
            "\n",
            "11,Shikhar Dhawan,PBKS,705,16,575,69.69,94,141.12,6,7\n",
            "\n",
            "12,Sanju Samson,RR,549,11,347,54.32,119,137.19,5,5\n",
            "\n",
            "13,Virat Kohli,RCB,684,16,563,70.45,113,130.02,6,8\n",
            "\n"
          ]
        }
      ]
    },
    {
      "cell_type": "code",
      "source": [
        "#Which Player Score more than 500 runs\n",
        "print(player_runs)\n",
        "print(\"\\n\\n\\nPlayers with more than 500 matches are\")\n",
        "for player in player_runs:\n",
        "  if player_runs[player]>=\"500\":\n",
        "    print(player,\"\\t\\t:\",player_runs[player])"
      ],
      "metadata": {
        "colab": {
          "base_uri": "https://localhost:8080/"
        },
        "id": "kah_Z6WidqAn",
        "outputId": "b7b2f36d-c287-443a-d140-b0af61858fa8"
      },
      "execution_count": null,
      "outputs": [
        {
          "output_type": "stream",
          "name": "stdout",
          "text": [
            "{'Player': '    Run', 'MS Dhoni': '630', 'Ruturaj Gaikwad': '452', 'David Warner': '724', 'Hardik Pandya': '664', 'Rishabh Pant': '572', 'David Miller': '651', 'Venkatesh Iyer': '542', 'KL Rahul': '676', 'Rohit Sharma': '789', 'Shreyas Iyer': '627', 'Deepak Hooda': '564', 'Cameron Green': '675', 'Shikhar Dhawan': '705', 'Sanju Samson': '549', 'Virat Kohli': '684'}\n",
            "\n",
            "\n",
            "\n",
            "Players with more than 500 matches are\n",
            "MS Dhoni \t\t: 630\n",
            "David Warner \t\t: 724\n",
            "Hardik Pandya \t\t: 664\n",
            "Rishabh Pant \t\t: 572\n",
            "David Miller \t\t: 651\n",
            "Venkatesh Iyer \t\t: 542\n",
            "KL Rahul \t\t: 676\n",
            "Rohit Sharma \t\t: 789\n",
            "Shreyas Iyer \t\t: 627\n",
            "Deepak Hooda \t\t: 564\n",
            "Cameron Green \t\t: 675\n",
            "Shikhar Dhawan \t\t: 705\n",
            "Sanju Samson \t\t: 549\n",
            "Virat Kohli \t\t: 684\n"
          ]
        }
      ]
    },
    {
      "cell_type": "code",
      "source": [
        "#Which team has most no of player in list.\n",
        "\n",
        "print(player_team,\"\\n\\n\\n\")\n",
        "\n",
        "frequency ={}\n",
        "for team in player_team:\n",
        "  if team in frequency:\n",
        "    frequency[team]+=1\n",
        "  else:\n",
        "    frequency[team]=1\n",
        "print(frequency)\n",
        "marklist = sorted(frequency.items(), key=lambda x:x[1],reverse=True)\n",
        "sortdict = dict(marklist)\n",
        "print(sortdict)\n",
        "print( list(sortdict.keys())[0],\"with\",list(sortdict.values())[0],\"players\")"
      ],
      "metadata": {
        "colab": {
          "base_uri": "https://localhost:8080/"
        },
        "id": "aSmaEjZ_eWre",
        "outputId": "44c55039-79ac-444e-cedb-0c8667612b4c"
      },
      "execution_count": null,
      "outputs": [
        {
          "output_type": "stream",
          "name": "stdout",
          "text": [
            "('Team', 'Team', 'CSK', 'CSK', 'DC', 'GT', 'DC', 'GT', 'KKR', 'LSG', 'MI', 'KKR', 'LSG', 'MI', 'PBKS', 'RR', 'RCB') \n",
            "\n",
            "\n",
            "\n",
            "{'Team': 2, 'CSK': 2, 'DC': 2, 'GT': 2, 'KKR': 2, 'LSG': 2, 'MI': 2, 'PBKS': 1, 'RR': 1, 'RCB': 1}\n",
            "{'Team': 2, 'CSK': 2, 'DC': 2, 'GT': 2, 'KKR': 2, 'LSG': 2, 'MI': 2, 'PBKS': 1, 'RR': 1, 'RCB': 1}\n",
            "Team with 2 players\n"
          ]
        }
      ]
    },
    {
      "cell_type": "code",
      "source": [
        "#Which player has best avg in this ipl\n",
        "\n",
        "print(avg)\n",
        "\n",
        "for player in avg:\n",
        "  if avg[player]==max(avg.values()):\n",
        "    print(\"\\n\\n\\n\",player,end=\" \")\n",
        "\n",
        "\n",
        "print(\"has best avg of\",max(avg.values()),\"in this ipl\")"
      ],
      "metadata": {
        "colab": {
          "base_uri": "https://localhost:8080/"
        },
        "id": "HvdFzRmwe-rf",
        "outputId": "e69f6cf8-d07d-4683-e24e-ed73d5921854"
      },
      "execution_count": null,
      "outputs": [
        {
          "output_type": "stream",
          "name": "stdout",
          "text": [
            "{'Player': '    Avg', 'MS Dhoni': '74.1', 'Ruturaj Gaikwad': '53.4', 'David Warner': '68.7', 'Hardik Pandya': '63.5', 'Rishabh Pant': '53.2', 'David Miller': '43.86', 'Venkatesh Iyer': '50.17', 'KL Rahul': '64.52', 'Rohit Sharma': '71.56', 'Shreyas Iyer': '54.84', 'Deepak Hooda': '57.25', 'Cameron Green': '64.59', 'Shikhar Dhawan': '69.69', 'Sanju Samson': '54.32', 'Virat Kohli': '70.45'}\n",
            "\n",
            "\n",
            "\n",
            " MS Dhoni has best avg of 74.1 in this ipl\n"
          ]
        }
      ]
    },
    {
      "cell_type": "code",
      "source": [
        "#Who Faced most balls in this ipl\n",
        "print(balls_faced)\n",
        "\n",
        "for Player in balls_faced:\n",
        "  if balls_faced[Player]==max(balls_faced.values()):\n",
        "    print(\"\\n\\n\\n\",Player, end=\" \")\n",
        "\n",
        "\n",
        "print(\"faced most\",max(balls_faced.values()),\"balls in this ipl\")"
      ],
      "metadata": {
        "colab": {
          "base_uri": "https://localhost:8080/"
        },
        "id": "0s3t2xoEfG61",
        "outputId": "ad9d2cda-1aec-424f-be49-76f20f1b2cdd"
      },
      "execution_count": null,
      "outputs": [
        {
          "output_type": "stream",
          "name": "stdout",
          "text": [
            "{'Player': 'Balls.faced', 'MS Dhoni': '667', 'Ruturaj Gaikwad': '417', 'David Warner': '598', 'Hardik Pandya': '478', 'Rishabh Pant': '451', 'David Miller': '382', 'Venkatesh Iyer': '321', 'KL Rahul': '458', 'Rohit Sharma': '597', 'Shreyas Iyer': '421', 'Deepak Hooda': '384', 'Cameron Green': '456', 'Shikhar Dhawan': '575', 'Sanju Samson': '347', 'Virat Kohli': '563'}\n",
            "\n",
            "\n",
            "\n",
            " Player faced most Balls.faced balls in this ipl\n"
          ]
        }
      ]
    },
    {
      "cell_type": "code",
      "source": [
        "#Who played most matches in this ipl\n",
        "\n",
        "print(mat_played)\n",
        "print(\"\\n\\n\\nPlayers played most'\",max(mat_played.values()),\"'times are:\",end=\" \")\n",
        "\n",
        "for player in mat_played:\n",
        "  if mat_played[player]==max(mat_played.values()):\n",
        "    print(player,end=\", \")"
      ],
      "metadata": {
        "colab": {
          "base_uri": "https://localhost:8080/"
        },
        "id": "lbaVFTWGhPxA",
        "outputId": "9c16e073-cfbf-44f0-91ec-c176dd69f593"
      },
      "execution_count": null,
      "outputs": [
        {
          "output_type": "stream",
          "name": "stdout",
          "text": [
            "{'Player': 'Mat.played', 'MS Dhoni': '18', 'Ruturaj Gaikwad': '16', 'David Warner': '16', 'Hardik Pandya': '14', 'Rishabh Pant': '13', 'David Miller': '12', 'Venkatesh Iyer': '13', 'KL Rahul': '16', 'Rohit Sharma': '17', 'Shreyas Iyer': '13', 'Deepak Hooda': '12', 'Cameron Green': '14', 'Shikhar Dhawan': '16', 'Sanju Samson': '11', 'Virat Kohli': '16'}\n",
            "\n",
            "\n",
            "\n",
            "Players played most' Mat.played 'times are: Player, "
          ]
        }
      ]
    },
    {
      "cell_type": "code",
      "source": [
        "#which player had faced more than 400 balls\n",
        "print(\"\\n\\n\\nPlayers who faced more than 400 balls are\")\n",
        "for player in balls_faced:\n",
        "  if balls_faced[player]>=\"400\":\n",
        "    print(player,\"\\t\\t:\",balls_faced[player])"
      ],
      "metadata": {
        "colab": {
          "base_uri": "https://localhost:8080/"
        },
        "id": "TlF6z8C5lN4P",
        "outputId": "12fd254b-5849-419a-d7da-076fa69e1588"
      },
      "execution_count": null,
      "outputs": [
        {
          "output_type": "stream",
          "name": "stdout",
          "text": [
            "\n",
            "\n",
            "\n",
            "Players who faced more than 400 balls are\n",
            "Player \t\t: Balls.faced\n",
            "MS Dhoni \t\t: 667\n",
            "Ruturaj Gaikwad \t\t: 417\n",
            "David Warner \t\t: 598\n",
            "Hardik Pandya \t\t: 478\n",
            "Rishabh Pant \t\t: 451\n",
            "KL Rahul \t\t: 458\n",
            "Rohit Sharma \t\t: 597\n",
            "Shreyas Iyer \t\t: 421\n",
            "Cameron Green \t\t: 456\n",
            "Shikhar Dhawan \t\t: 575\n",
            "Virat Kohli \t\t: 563\n"
          ]
        }
      ]
    },
    {
      "cell_type": "code",
      "source": [
        "#Which player has scored more than 100 in a single matches\n",
        "print(highest_score)\n",
        "\n",
        "\n",
        "print(\"\\n\\n\\nPlayers who scored more than 100 in single match are\")\n",
        "for player in highest_score:\n",
        "  if highest_score[player]>=100:\n",
        "    print(player,\"\\t\\t:\",highest_score[player])"
      ],
      "metadata": {
        "colab": {
          "base_uri": "https://localhost:8080/"
        },
        "id": "AaiKatEpmPXV",
        "outputId": "01c4da73-6d04-43de-d126-832ef1783d4c"
      },
      "execution_count": null,
      "outputs": [
        {
          "output_type": "stream",
          "name": "stdout",
          "text": [
            "{'MS Dhoni': 85, 'Ruturaj Gaikwad': 101, 'David Warner': 126, 'Hardik Pandya': 91, 'Rishabh Pant': 128, 'David Miller': 103, 'Venkatesh Iyer': 104, 'KL Rahul': 132, 'Rohit Sharma': 109, 'Shreyas Iyer': 103, 'Deepak Hooda': 85, 'Cameron Green': 114, 'Shikhar Dhawan': 94, 'Sanju Samson': 119, 'Virat Kohli': 113}\n",
            "\n",
            "\n",
            "\n",
            "Players who scored more than 100 in single match are\n",
            "Ruturaj Gaikwad \t\t: 101\n",
            "David Warner \t\t: 126\n",
            "Rishabh Pant \t\t: 128\n",
            "David Miller \t\t: 103\n",
            "Venkatesh Iyer \t\t: 104\n",
            "KL Rahul \t\t: 132\n",
            "Rohit Sharma \t\t: 109\n",
            "Shreyas Iyer \t\t: 103\n",
            "Cameron Green \t\t: 114\n",
            "Sanju Samson \t\t: 119\n",
            "Virat Kohli \t\t: 113\n"
          ]
        }
      ]
    },
    {
      "cell_type": "code",
      "source": [
        "#Who has highest stike rate in ipl\n",
        "print(strike_rate)\n",
        "\n",
        "for player in strike_rate:\n",
        "  if strike_rate[player]==max(strike_rate.values()):\n",
        "    print(\"\\n\\n\\n\",player,end=\" \")\n",
        "\n",
        "\n",
        "print(\"has highest strike rate of\",max(strike_rate.values()),\"in this ipl\")"
      ],
      "metadata": {
        "colab": {
          "base_uri": "https://localhost:8080/"
        },
        "id": "hQ9tdCWJnbJg",
        "outputId": "2bcf068b-2474-477e-e452-cf225bc932a8"
      },
      "execution_count": null,
      "outputs": [
        {
          "output_type": "stream",
          "name": "stdout",
          "text": [
            "{'MS Dhoni': '135.96', 'Ruturaj Gaikwad': '135.19', 'David Warner': '139.92', 'Hardik Pandya': '145.64', 'Rishabh Pant': '147.32', 'David Miller': '138.46', 'Venkatesh Iyer': '130.25', 'KL Rahul': '134.72', 'Rohit Sharma': '130.25', 'Shreyas Iyer': '134.51', 'Deepak Hooda': '138.46', 'Cameron Green': '145.35', 'Shikhar Dhawan': '141.12', 'Sanju Samson': '137.19', 'Virat Kohli': '130.02'}\n",
            "\n",
            "\n",
            "\n",
            " Rishabh Pant has highest strike rate of 147.32 in this ipl\n"
          ]
        }
      ]
    },
    {
      "cell_type": "code",
      "source": [
        "#How many total century scored in this ipl\n",
        "print(century)\n",
        "\n",
        "\n",
        "print(\"\\n\\nTotal\",sum(century),\"century scored in this ipl\")"
      ],
      "metadata": {
        "colab": {
          "base_uri": "https://localhost:8080/"
        },
        "id": "NzHXizvunvZ-",
        "outputId": "83f0aa3e-4f16-4ee3-c3c6-00ce786125bf"
      },
      "execution_count": null,
      "outputs": [
        {
          "output_type": "stream",
          "name": "stdout",
          "text": [
            "[7, 5, 5, 4, 4, 6, 9, 6, 6, 7, 7, 5, 8]\n",
            "\n",
            "\n",
            "Total 79 century scored in this ipl\n"
          ]
        }
      ]
    },
    {
      "cell_type": "code",
      "source": [
        "#How many players scored more than '5' Fiftys in this ipl\n",
        "\n",
        "print(fiftys)\n",
        "\n",
        "count = 0\n",
        "for player in fiftys:\n",
        "  if fiftys[player] > 5:\n",
        "    print(player,\"\\t\\t:\",fiftys[player])\n",
        "    count=count + 1\n",
        "\n",
        "print(\"\\n\\nTotal\",count,\"players have more than 5 fiftys in ipl\")"
      ],
      "metadata": {
        "colab": {
          "base_uri": "https://localhost:8080/"
        },
        "id": "2fmU-wyTopr5",
        "outputId": "661e1ea8-b01d-4b7a-af56-3ace8c7ee2d3"
      },
      "execution_count": null,
      "outputs": [
        {
          "output_type": "stream",
          "name": "stdout",
          "text": [
            "{'Hardik Pandya': 5, 'Rishabh Pant': 5, 'David Miller': 4, 'Venkatesh Iyer': 4, 'KL Rahul': 6, 'Rohit Sharma': 9, 'Shreyas Iyer': 6, 'Deepak Hooda': 6, 'Cameron Green': 7, 'Shikhar Dhawan': 7, 'Sanju Samson': 5, 'Virat Kohli': 8}\n",
            "KL Rahul \t\t: 6\n",
            "Rohit Sharma \t\t: 9\n",
            "Shreyas Iyer \t\t: 6\n",
            "Deepak Hooda \t\t: 6\n",
            "Cameron Green \t\t: 7\n",
            "Shikhar Dhawan \t\t: 7\n",
            "Virat Kohli \t\t: 8\n",
            "\n",
            "\n",
            "Total 7 players have more than 5 fiftys in ipl\n"
          ]
        }
      ]
    },
    {
      "cell_type": "code",
      "source": [
        "list1=['w','e','r','q','a','t',1]\n",
        "list1.append(\"pranay\")\n",
        "print(list1)\n",
        "list1.extend(\"kahalkar\")\n",
        "print(list1)\n",
        "list1.remove('w')\n",
        "print(list1)\n",
        "list1.discard(8)\n",
        "print(list1)"
      ],
      "metadata": {
        "id": "gxlF1QRDvtur",
        "colab": {
          "base_uri": "https://localhost:8080/",
          "height": 269
        },
        "outputId": "e987e96e-f3f6-4444-9ed4-43882da0cfe9"
      },
      "execution_count": null,
      "outputs": [
        {
          "output_type": "stream",
          "name": "stdout",
          "text": [
            "['w', 'e', 'r', 'q', 'a', 't', 1, 'pranay']\n",
            "['w', 'e', 'r', 'q', 'a', 't', 1, 'pranay', 'k', 'a', 'h', 'a', 'l', 'k', 'a', 'r']\n",
            "['e', 'r', 'q', 'a', 't', 1, 'pranay', 'k', 'a', 'h', 'a', 'l', 'k', 'a', 'r']\n"
          ]
        },
        {
          "output_type": "error",
          "ename": "AttributeError",
          "evalue": "ignored",
          "traceback": [
            "\u001b[0;31m---------------------------------------------------------------------------\u001b[0m",
            "\u001b[0;31mAttributeError\u001b[0m                            Traceback (most recent call last)",
            "\u001b[0;32m<ipython-input-14-15dc7e9e07ac>\u001b[0m in \u001b[0;36m<cell line: 8>\u001b[0;34m()\u001b[0m\n\u001b[1;32m      6\u001b[0m \u001b[0mlist1\u001b[0m\u001b[0;34m.\u001b[0m\u001b[0mremove\u001b[0m\u001b[0;34m(\u001b[0m\u001b[0;34m'w'\u001b[0m\u001b[0;34m)\u001b[0m\u001b[0;34m\u001b[0m\u001b[0;34m\u001b[0m\u001b[0m\n\u001b[1;32m      7\u001b[0m \u001b[0mprint\u001b[0m\u001b[0;34m(\u001b[0m\u001b[0mlist1\u001b[0m\u001b[0;34m)\u001b[0m\u001b[0;34m\u001b[0m\u001b[0;34m\u001b[0m\u001b[0m\n\u001b[0;32m----> 8\u001b[0;31m \u001b[0mlist1\u001b[0m\u001b[0;34m.\u001b[0m\u001b[0mdiscard\u001b[0m\u001b[0;34m(\u001b[0m\u001b[0;36m8\u001b[0m\u001b[0;34m)\u001b[0m\u001b[0;34m\u001b[0m\u001b[0;34m\u001b[0m\u001b[0m\n\u001b[0m\u001b[1;32m      9\u001b[0m \u001b[0mprint\u001b[0m\u001b[0;34m(\u001b[0m\u001b[0mlist1\u001b[0m\u001b[0;34m)\u001b[0m\u001b[0;34m\u001b[0m\u001b[0;34m\u001b[0m\u001b[0m\n",
            "\u001b[0;31mAttributeError\u001b[0m: 'list' object has no attribute 'discard'"
          ]
        }
      ]
    },
    {
      "cell_type": "code",
      "source": [
        "from re import X\n",
        "Area_of_sphere=lambda x:4*3.14*x*x\n",
        "print(Area_of_sphere(7))\n",
        "\n",
        "area_of_circle=lambda r:3.14*r*r\n",
        "print(area_of_circle(7))\n",
        "\n",
        "area_of_square=lambda a:a*a\n",
        "print(area_of_square(7))\n",
        "\n"
      ],
      "metadata": {
        "id": "8YR9Lb6STgjq"
      },
      "execution_count": null,
      "outputs": []
    },
    {
      "cell_type": "code",
      "source": [
        "from pandas.core.groupby.groupby import DataFrame\n",
        "import pandas as pranay\n",
        "dict1=[{'king':20,'yash':45,'prasad':64}]\n",
        "rohan=pranay.DataFrame.from_dict(dict1)\n",
        "print(rohan)\n",
        "\n"
      ],
      "metadata": {
        "id": "kOlEeA7XWBbg"
      },
      "execution_count": null,
      "outputs": []
    },
    {
      "cell_type": "code",
      "source": [
        "import csv\n",
        "\n",
        "f1 = open(\"/content/pranay.csv\", \"r\")\n",
        "d1 = list(csv.reader(f1, delimiter=\",\"))\n",
        "j = len(d1)\n",
        "\n",
        "Year = []\n",
        "Appeared = []\n",
        "Form_Filled = []\n",
        "Passed_percent = []\n",
        "Failed = []\n",
        "\n",
        "for i in range(1, j):\n",
        "    Year.append(int(d1[i][1]))\n",
        "    Appeared.append(int(d1[i][2]))\n",
        "    Form_Filled.append(int(d1[i][3]))\n",
        "    Passed_percent.append(float(d1[i][4].strip('%')))\n",
        "\n",
        "print(df)\n",
        "\n",
        "# Filter the data for years >= 2005 using lambda function\n",
        "filtered_df = df[df[\"Year\"].apply(lambda x:x >=2005)]\n",
        "print(filtered_df)\n",
        "\n",
        "# Display rows where Passed % is greater than or equal to 45%\n",
        "passed_greater_45 = df[df[\"Passed %\"] >= 45]\n",
        "print(passed_greater_45)"
      ],
      "metadata": {
        "colab": {
          "base_uri": "https://localhost:8080/"
        },
        "id": "DRoj85kiQzwr",
        "outputId": "5239a081-9531-45a8-846c-46850dd213ef"
      },
      "execution_count": null,
      "outputs": [
        {
          "output_type": "stream",
          "name": "stdout",
          "text": [
            "    Year  Appeared  Form Filled  Passed %\n",
            "0   2003     25678        30458      45.0\n",
            "1   2004     26897        31456      48.0\n",
            "2   2005     35148        39456      47.0\n",
            "3   2006     37458        40125      49.0\n",
            "4   2007     39456        42657      52.0\n",
            "5   2008     41258        49561      56.0\n",
            "6   2009     42567       512348      56.0\n",
            "7   2010     44568        55648      47.0\n",
            "8   2011     47526        57894      43.0\n",
            "9   2012     49561        59486      49.0\n",
            "10  2013     52149        61234      51.0\n",
            "11  2014     61548        62458      64.0\n",
            "12  2015     69458        71235      66.0\n",
            "13  2016     72548        74568      53.0\n",
            "14  2017     76548        79845      48.0\n",
            "15  2018     84265        89458      68.0\n",
            "16  2019     89254        94567      62.0\n",
            "17  2020     91756        96478      69.0\n",
            "18  2021     94567        98746      71.0\n",
            "19  2022    102357       112354      70.0\n",
            "    Year  Appeared  Form Filled  Passed %\n",
            "2   2005     35148        39456      47.0\n",
            "3   2006     37458        40125      49.0\n",
            "4   2007     39456        42657      52.0\n",
            "5   2008     41258        49561      56.0\n",
            "6   2009     42567       512348      56.0\n",
            "7   2010     44568        55648      47.0\n",
            "8   2011     47526        57894      43.0\n",
            "9   2012     49561        59486      49.0\n",
            "10  2013     52149        61234      51.0\n",
            "11  2014     61548        62458      64.0\n",
            "12  2015     69458        71235      66.0\n",
            "13  2016     72548        74568      53.0\n",
            "14  2017     76548        79845      48.0\n",
            "15  2018     84265        89458      68.0\n",
            "16  2019     89254        94567      62.0\n",
            "17  2020     91756        96478      69.0\n",
            "18  2021     94567        98746      71.0\n",
            "19  2022    102357       112354      70.0\n",
            "    Year  Appeared  Form Filled  Passed %\n",
            "0   2003     25678        30458      45.0\n",
            "1   2004     26897        31456      48.0\n",
            "2   2005     35148        39456      47.0\n",
            "3   2006     37458        40125      49.0\n",
            "4   2007     39456        42657      52.0\n",
            "5   2008     41258        49561      56.0\n",
            "6   2009     42567       512348      56.0\n",
            "7   2010     44568        55648      47.0\n",
            "9   2012     49561        59486      49.0\n",
            "10  2013     52149        61234      51.0\n",
            "11  2014     61548        62458      64.0\n",
            "12  2015     69458        71235      66.0\n",
            "13  2016     72548        74568      53.0\n",
            "14  2017     76548        79845      48.0\n",
            "15  2018     84265        89458      68.0\n",
            "16  2019     89254        94567      62.0\n",
            "17  2020     91756        96478      69.0\n",
            "18  2021     94567        98746      71.0\n",
            "19  2022    102357       112354      70.0\n"
          ]
        }
      ]
    },
    {
      "cell_type": "code",
      "source": [
        "import pandas as pd\n",
        "a=pd.read_csv(r'/content/climate_change_data 01.csv')\n",
        "print(a)\n",
        "# type(a)\n",
        "\n"
      ],
      "metadata": {
        "id": "TNaEBDOhQWzn",
        "colab": {
          "base_uri": "https://localhost:8080/"
        },
        "outputId": "d2b09bf3-5491-4fab-9860-45e34d853fce"
      },
      "execution_count": null,
      "outputs": [
        {
          "output_type": "stream",
          "name": "stdout",
          "text": [
            "         Date           Location                Country  Temperature  \\\n",
            "0     00:00.0    New Williamtown                 Latvia    10.688986   \n",
            "1     09:43.3       North Rachel           South Africa    13.814430   \n",
            "2     19:26.5   West Williamland          French Guiana    27.323718   \n",
            "3     29:09.8        South David                Vietnam    12.309581   \n",
            "4     38:53.0     New Scottburgh                Moldova    13.210885   \n",
            "...       ...                ...                    ...          ...   \n",
            "9995  21:07.0   South Elaineberg                 Bhutan    15.020523   \n",
            "9996  30:50.2       Leblancville                  Congo    16.772451   \n",
            "9997  40:33.5     West Stephanie              Argentina    22.370025   \n",
            "9998  50:16.7        Port Steven                Albania    19.430853   \n",
            "9999  00:00.0  West Anthonyburgh  Sao Tome and Principe    12.661928   \n",
            "\n",
            "      CO2 Emissions  Sea Level Rise  Precipitation   Humidity  Wind Speed  \n",
            "0        403.118902        0.717506      13.835237  23.631256   18.492026  \n",
            "1        396.663499        1.205715      40.974084  43.982946   34.249300  \n",
            "2        451.553155       -0.160783      42.697931  96.652600   34.124261  \n",
            "3        422.404984       -0.475931       5.193341  47.467938    8.554563  \n",
            "4        410.472999        1.135757      78.695280  61.789672    8.001164  \n",
            "...             ...             ...            ...        ...         ...  \n",
            "9995     391.379537       -1.452243      93.417109  25.293814    6.531866  \n",
            "9996     346.921190        0.543616      49.882947  96.787402   42.249014  \n",
            "9997     466.042136        1.026704      30.659841  15.211825   18.293708  \n",
            "9998     337.899776       -0.895329      18.932275  82.774520   42.424255  \n",
            "9999     381.172746        2.260788      78.339658  99.243923   41.856539  \n",
            "\n",
            "[10000 rows x 9 columns]\n"
          ]
        }
      ]
    },
    {
      "cell_type": "code",
      "source": [
        "p = df['Humidity']\n",
        "b = df['Precipitation']\n",
        "print(p)\n",
        "print(b)"
      ],
      "metadata": {
        "colab": {
          "base_uri": "https://localhost:8080/"
        },
        "id": "a8rvmiA6akfw",
        "outputId": "8b8f9dec-677a-4fa8-f7d0-7ecfe7dff5a7"
      },
      "execution_count": null,
      "outputs": [
        {
          "output_type": "stream",
          "name": "stdout",
          "text": [
            "0       23.631256\n",
            "1       43.982946\n",
            "2       96.652600\n",
            "3       47.467938\n",
            "4       61.789672\n",
            "          ...    \n",
            "9995    25.293814\n",
            "9996    96.787402\n",
            "9997    15.211825\n",
            "9998    82.774520\n",
            "9999    99.243923\n",
            "Name: Humidity, Length: 10000, dtype: float64\n",
            "0       13.835237\n",
            "1       40.974084\n",
            "2       42.697931\n",
            "3        5.193341\n",
            "4       78.695280\n",
            "          ...    \n",
            "9995    93.417109\n",
            "9996    49.882947\n",
            "9997    30.659841\n",
            "9998    18.932275\n",
            "9999    78.339658\n",
            "Name: Precipitation, Length: 10000, dtype: float64\n"
          ]
        }
      ]
    },
    {
      "cell_type": "code",
      "source": [
        "# import as pandas as pd\n",
        "# import as matplotlib.pyplot as plt\n",
        "# file =pd.read_excel(\"/content/climate_change_data 01.csv\")\n",
        "# plt.pie(file[\"Humidity\"],lebals[\"Precipitation\"])\n",
        "# plt.show()\n",
        "\n",
        "import matplotlib.pyplot as plt\n",
        "import numpy as np\n",
        "plt.rcParams[\"figure.figsize\"]=[5.32,4.86]\n",
        "plt.rcParams[\"figure.autolayout\"]= True\n",
        "columns =[\"Humidity\",\"Precipitation\"]\n",
        "df=pd.read_csv(r'/content/climate_change_data 01.csv')\n",
        "plt.plot(df.Humidity,df.Precipitation)\n",
        "plt.show()"
      ],
      "metadata": {
        "id": "xgojClmoWVnI",
        "colab": {
          "base_uri": "https://localhost:8080/",
          "height": 493
        },
        "outputId": "b61807b1-6032-4c84-d930-3e776535e9c5"
      },
      "execution_count": null,
      "outputs": [
        {
          "output_type": "display_data",
          "data": {
            "text/plain": [
              "<Figure size 532x486 with 1 Axes>"
            ],
            "image/png": "[encoded data removed]"
          },
          "metadata": {}
        }
      ]
    },
    {
      "cell_type": "code",
      "source": [
        "import matplotlib.pyplot as plt\n",
        "import numpy as np\n",
        "\n",
        "y = np.array([35, 25, 25, 15])\n",
        "\n",
        "plt.pie(y)\n",
        "plt.show()"
      ],
      "metadata": {
        "id": "26rHw-TdkxPe",
        "outputId": "1015b55f-5a7d-4b69-83c2-4f4522b1eb77",
        "colab": {
          "base_uri": "https://localhost:8080/",
          "height": 493
        }
      },
      "execution_count": null,
      "outputs": [
        {
          "output_type": "display_data",
          "data": {
            "text/plain": [
              "<Figure size 532x486 with 1 Axes>"
            ],
            "image/png": "[encoded data removed]"
          },
          "metadata": {}
        }
      ]
    },
    {
      "cell_type": "code",
      "source": [],
      "metadata": {
        "id": "Pd6_9sVZnzTK"
      },
      "execution_count": null,
      "outputs": []
    },
    {
      "cell_type": "code",
      "source": [
        "def fun(data):\n",
        "  return(data *10)\n",
        "\n",
        "df1 = pd.read_csv('/content/pranay.202.csv')\n",
        "\n",
        "#groupby in python\n",
        "q = df1.groupby('Name')['RollNo'].count()==2\n",
        "w = df1.groupby('Name')['RollNo'].head()\n",
        "print(q)\n",
        "print(w)\n",
        "\n",
        "e = df1.aggregate(['sum','min','max'])\n",
        "print(e)"
      ],
      "metadata": {
        "colab": {
          "base_uri": "https://localhost:8080/"
        },
        "id": "P_cExXeIoBbQ",
        "outputId": "130f251d-2334-4975-d657-5883e0fdf228"
      },
      "execution_count": null,
      "outputs": [
        {
          "output_type": "stream",
          "name": "stdout",
          "text": [
            "Name\n",
            "Avishkar     False\n",
            "Om           False\n",
            "Parth        False\n",
            "Pranay       False\n",
            "Prathmesh    False\n",
            "Rahul        False\n",
            "Rohit        False\n",
            "Sushant      False\n",
            "Swapnil      False\n",
            "Yash         False\n",
            "Name: Roll No, dtype: bool\n",
            "0    320\n",
            "1    325\n",
            "2    318\n",
            "3    302\n",
            "4    365\n",
            "5    343\n",
            "6    351\n",
            "7    354\n",
            "8    347\n",
            "9    304\n",
            "Name: Roll No, dtype: int64\n",
            "                                                  Name  Roll No  Marks  \\\n",
            "sum  PranayYashRohitSushantRahulAvishkarSwapnilPrat...     3329    149   \n",
            "min                                           Avishkar      302     12   \n",
            "max                                               Yash      365     18   \n",
            "\n",
            "            std  \n",
            "sum  cababcdabc  \n",
            "min           a  \n",
            "max           d  \n"
          ]
        }
      ]
    },
    {
      "cell_type": "code",
      "source": [
        "import pandas as pd\n",
        "df1 = pd.read_csv('/content/pranay.2023.csv')\n",
        "data=df1.values.tolist()\n",
        "b = pd.DataFrame(df1)\n",
        "\n",
        "a = df1['RollNo']\n",
        "b = df1['Name']\n",
        "\n",
        "df1.RollNo = df1.RollNo.astype('int64')\n",
        "d = df1['Name'][df1.RollNo>300]\n",
        "\n",
        "def student(a,b):\n",
        "  print('std:',a,b)\n",
        "\n",
        "student(a,b)"
      ],
      "metadata": {
        "colab": {
          "base_uri": "https://localhost:8080/"
        },
        "id": "FYFYpWewwQWX",
        "outputId": "411f1c70-92df-4cb6-94d1-54dbf902f515"
      },
      "execution_count": null,
      "outputs": [
        {
          "output_type": "stream",
          "name": "stdout",
          "text": [
            "std: 0    320\n",
            "1    325\n",
            "2    318\n",
            "3    302\n",
            "4    365\n",
            "5    343\n",
            "6    351\n",
            "7    354\n",
            "8    347\n",
            "9    304\n",
            "Name: RollNo, dtype: int64 0       Pranay\n",
            "1         Yash\n",
            "2        Rohit\n",
            "3      Sushant\n",
            "4        Rahul\n",
            "5     Avishkar\n",
            "6      Swapnil\n",
            "7    Prathmesh\n",
            "8        Parth\n",
            "9           Om\n",
            "Name: Name, dtype: object\n"
          ]
        }
      ]
    },
    {
      "cell_type": "code",
      "source": [
        "e.plot()"
      ],
      "metadata": {
        "colab": {
          "base_uri": "https://localhost:8080/",
          "height": 447
        },
        "id": "Sjqm1_O24s3F",
        "outputId": "0f01490c-a49b-4ae3-f989-0c24ae079a21"
      },
      "execution_count": null,
      "outputs": [
        {
          "output_type": "execute_result",
          "data": {
            "text/plain": [
              "<Axes: >"
            ]
          },
          "metadata": {},
          "execution_count": 29
        },
        {
          "output_type": "display_data",
          "data": {
            "text/plain": [
              "<Figure size 640x480 with 1 Axes>"
            ],
            "image/png": "[encoded data removed]"
          },
          "metadata": {}
        }
      ]
    },
    {
      "cell_type": "code",
      "source": [
        "import pandas as pd\n",
        "import matplotlib.pyplot as plt\n",
        "a =df1['Name'].head(3)\n",
        "plt.pie(l, labels=a,autoplt='%1.1f%%',shadow=true, startangle=140)\n",
        "plt.show(a)\n"
      ],
      "metadata": {
        "colab": {
          "base_uri": "https://localhost:8080/",
          "height": 244
        },
        "id": "NybKbJUc6LYZ",
        "outputId": "44c74d3a-d868-473e-c80a-5a921aa4a930"
      },
      "execution_count": null,
      "outputs": [
        {
          "output_type": "error",
          "ename": "NameError",
          "evalue": "ignored",
          "traceback": [
            "\u001b[0;31m---------------------------------------------------------------------------\u001b[0m",
            "\u001b[0;31mNameError\u001b[0m                                 Traceback (most recent call last)",
            "\u001b[0;32m<ipython-input-5-ad854e13e9da>\u001b[0m in \u001b[0;36m<cell line: 3>\u001b[0;34m()\u001b[0m\n\u001b[1;32m      1\u001b[0m \u001b[0;32mimport\u001b[0m \u001b[0mpandas\u001b[0m \u001b[0;32mas\u001b[0m \u001b[0mpd\u001b[0m\u001b[0;34m\u001b[0m\u001b[0;34m\u001b[0m\u001b[0m\n\u001b[1;32m      2\u001b[0m \u001b[0;32mimport\u001b[0m \u001b[0mmatplotlib\u001b[0m\u001b[0;34m.\u001b[0m\u001b[0mpyplot\u001b[0m \u001b[0;32mas\u001b[0m \u001b[0mplt\u001b[0m\u001b[0;34m\u001b[0m\u001b[0;34m\u001b[0m\u001b[0m\n\u001b[0;32m----> 3\u001b[0;31m \u001b[0ma\u001b[0m \u001b[0;34m=\u001b[0m\u001b[0mdf1\u001b[0m\u001b[0;34m[\u001b[0m\u001b[0;34m'Name'\u001b[0m\u001b[0;34m]\u001b[0m\u001b[0;34m.\u001b[0m\u001b[0mhead\u001b[0m\u001b[0;34m(\u001b[0m\u001b[0;36m3\u001b[0m\u001b[0;34m)\u001b[0m\u001b[0;34m\u001b[0m\u001b[0;34m\u001b[0m\u001b[0m\n\u001b[0m\u001b[1;32m      4\u001b[0m \u001b[0mplt\u001b[0m\u001b[0;34m.\u001b[0m\u001b[0mpie\u001b[0m\u001b[0;34m(\u001b[0m\u001b[0ml\u001b[0m\u001b[0;34m,\u001b[0m \u001b[0mlabels\u001b[0m\u001b[0;34m=\u001b[0m\u001b[0ma\u001b[0m\u001b[0;34m,\u001b[0m\u001b[0mautoplt\u001b[0m\u001b[0;34m=\u001b[0m\u001b[0;34m'%1.1f%%'\u001b[0m\u001b[0;34m,\u001b[0m\u001b[0mshadow\u001b[0m\u001b[0;34m=\u001b[0m\u001b[0mtrue\u001b[0m\u001b[0;34m,\u001b[0m \u001b[0mstartangle\u001b[0m\u001b[0;34m=\u001b[0m\u001b[0;36m140\u001b[0m\u001b[0;34m)\u001b[0m\u001b[0;34m\u001b[0m\u001b[0;34m\u001b[0m\u001b[0m\n\u001b[1;32m      5\u001b[0m \u001b[0mplt\u001b[0m\u001b[0;34m.\u001b[0m\u001b[0mshow\u001b[0m\u001b[0;34m(\u001b[0m\u001b[0ma\u001b[0m\u001b[0;34m)\u001b[0m\u001b[0;34m\u001b[0m\u001b[0;34m\u001b[0m\u001b[0m\n",
            "\u001b[0;31mNameError\u001b[0m: name 'df1' is not defined"
          ]
        }
      ]
    },
    {
      "cell_type": "code",
      "source": [
        "import matplotlib.pyplot as plt\n",
        "import numpy as np\n",
        "x=np.array([30,40,50,60])\n",
        "y=np.array([500,650,750,850])\n",
        "plt.plot(x, y)\n",
        "plt.show()\n"
      ],
      "metadata": {
        "colab": {
          "base_uri": "https://localhost:8080/",
          "height": 430
        },
        "id": "_4KeyfL5x0WQ",
        "outputId": "f0e95e15-4460-482f-8ad6-3b2cbb8e2bff"
      },
      "execution_count": null,
      "outputs": [
        {
          "output_type": "display_data",
          "data": {
            "text/plain": [
              "<Figure size 640x480 with 1 Axes>"
            ],
            "image/png": "[encoded data removed]"
          },
          "metadata": {}
        }
      ]
    },
    {
      "cell_type": "code",
      "source": [
        "import matplotlib.pyplot as plt\n",
        "import numpy as np\n",
        "\n",
        "ypoints = np.array([3, 8, 1, 10])\n",
        "\n",
        "plt.plot(ypoints, linestyle = 'dotted')\n",
        "plt.show()"
      ],
      "metadata": {
        "colab": {
          "base_uri": "https://localhost:8080/",
          "height": 430
        },
        "id": "wRAGqIl7x0fL",
        "outputId": "4af7341d-df85-4544-a6a7-fff49cd488e5"
      },
      "execution_count": null,
      "outputs": [
        {
          "output_type": "display_data",
          "data": {
            "text/plain": [
              "<Figure size 640x480 with 1 Axes>"
            ],
            "image/png": "[encoded data removed]"
          },
          "metadata": {}
        }
      ]
    },
    {
      "cell_type": "code",
      "source": [
        "import numpy as np\n",
        "from sklearn.linear_model import LinearRegression\n",
        "\n",
        "x=np.array([[1],[2],[3],[4],[5]])\n",
        "y=np.array([2,4,6,8,10])\n",
        "\n",
        "regressor=LinearRegression()\n",
        "\n",
        "regressor.fit(x,y)\n",
        "\n",
        "new_x=np.array([[4]])\n",
        "predicted_y=regressor.predict(new_x)\n",
        "\n",
        "print(\"Predicted y:\",predicted_y)"
      ],
      "metadata": {
        "id": "vnXMBA8thu8u",
        "colab": {
          "base_uri": "https://localhost:8080/"
        },
        "outputId": "4866b798-db2f-4ca7-fa5c-45c5af517ff6"
      },
      "execution_count": null,
      "outputs": [
        {
          "output_type": "stream",
          "name": "stdout",
          "text": [
            "Predicted y: [8.]\n"
          ]
        }
      ]
    },
    {
      "cell_type": "code",
      "source": [
        "import matplotlib.pyplot as plt\n",
        "from scipy import stats\n",
        "\n",
        "x = [5,7,8,7,2,17,2,9,4,11,12,9,6]\n",
        "y = [99,86,87,88,111,86,103,87,94,78,77,85,86]\n",
        "\n",
        "slope, intercept, r, p, std_err = stats.linregress(x, y)\n",
        "\n",
        "def myfunc(x):\n",
        "  return slope * x + intercept\n",
        "\n",
        "mymodel = list(map(myfunc, x))\n",
        "\n",
        "plt.scatter(x, y)\n",
        "plt.plot(x, mymodel)\n",
        "plt.show()"
      ],
      "metadata": {
        "colab": {
          "base_uri": "https://localhost:8080/",
          "height": 430
        },
        "id": "JvsdhvKw0yDL",
        "outputId": "e7fc7ec3-2215-489a-c45b-9453e724c9a1"
      },
      "execution_count": null,
      "outputs": [
        {
          "output_type": "display_data",
          "data": {
            "text/plain": [
              "<Figure size 640x480 with 1 Axes>"
            ],
            "image/png": "[encoded data removed]"
          },
          "metadata": {}
        }
      ]
    }
  ]
}